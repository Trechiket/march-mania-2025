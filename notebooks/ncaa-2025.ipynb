{
 "cells": [
  {
   "cell_type": "markdown",
   "id": "0c938321",
   "metadata": {
    "papermill": {
     "duration": 0.013887,
     "end_time": "2025-07-05T15:07:23.733438",
     "exception": false,
     "start_time": "2025-07-05T15:07:23.719551",
     "status": "completed"
    },
    "tags": []
   },
   "source": [
    "# Import "
   ]
  },
  {
   "cell_type": "code",
   "execution_count": 1,
   "id": "2d235c29",
   "metadata": {
    "execution": {
     "iopub.execute_input": "2025-07-05T15:07:23.759758Z",
     "iopub.status.busy": "2025-07-05T15:07:23.759324Z",
     "iopub.status.idle": "2025-07-05T15:07:27.318982Z",
     "shell.execute_reply": "2025-07-05T15:07:27.317724Z"
    },
    "papermill": {
     "duration": 3.575214,
     "end_time": "2025-07-05T15:07:27.321068",
     "exception": false,
     "start_time": "2025-07-05T15:07:23.745854",
     "status": "completed"
    },
    "tags": []
   },
   "outputs": [],
   "source": [
    "import numpy as np\n",
    "import pandas as pd\n",
    "import xgboost as xgb\n",
    "from sklearn.preprocessing import MinMaxScaler, StandardScaler\n",
    "from sklearn.model_selection import KFold, StratifiedKFold, TimeSeriesSplit\n",
    "from sklearn.metrics import log_loss, accuracy_score, mean_squared_error\n",
    "from sklearn.linear_model import LogisticRegression, Ridge\n",
    "import matplotlib.pyplot as plt\n",
    "import seaborn as sns\n",
    "import random\n",
    "import time\n",
    "\n",
    "pd.set_option(\"display.max_column\", 999)\n",
    "pd.set_option(\"display.max_rows\", 15)"
   ]
  },
  {
   "cell_type": "markdown",
   "id": "6b362bd6",
   "metadata": {
    "papermill": {
     "duration": 0.011639,
     "end_time": "2025-07-05T15:07:27.344936",
     "exception": false,
     "start_time": "2025-07-05T15:07:27.333297",
     "status": "completed"
    },
    "tags": []
   },
   "source": [
    "# Load Data"
   ]
  },
  {
   "cell_type": "code",
   "execution_count": 2,
   "id": "6055a120",
   "metadata": {
    "execution": {
     "iopub.execute_input": "2025-07-05T15:07:27.373190Z",
     "iopub.status.busy": "2025-07-05T15:07:27.372508Z",
     "iopub.status.idle": "2025-07-05T15:07:31.966235Z",
     "shell.execute_reply": "2025-07-05T15:07:31.965025Z"
    },
    "papermill": {
     "duration": 4.610295,
     "end_time": "2025-07-05T15:07:31.968674",
     "exception": false,
     "start_time": "2025-07-05T15:07:27.358379",
     "status": "completed"
    },
    "tags": []
   },
   "outputs": [],
   "source": [
    "path = '/kaggle/input/march-machine-learning-mania-2025/'\n",
    "WNCAATourneyCompactResults = pd.read_csv(path + 'WNCAATourneyCompactResults.csv')\n",
    "MNCAATourneyCompactResults = pd.read_csv(path + 'MNCAATourneyCompactResults.csv')\n",
    "\n",
    "WNCAATourneyDetailedResults = pd.read_csv(path + 'WNCAATourneyDetailedResults.csv')\n",
    "MNCAATourneyDetailedResults = pd.read_csv(path + 'MNCAATourneyDetailedResults.csv')\n",
    "\n",
    "WNCAATourneySeeds = pd.read_csv(path + 'WNCAATourneySeeds.csv')\n",
    "MNCAATourneySeeds = pd.read_csv(path + 'MNCAATourneySeeds.csv')\n",
    "\n",
    "MTeams = pd.read_csv(path + 'MTeams.csv')\n",
    "\n",
    "WRegularSeasonDetailedResults = pd.read_csv(path + 'WRegularSeasonDetailedResults.csv')\n",
    "MRegularSeasonDetailedResults = pd.read_csv(path + 'MRegularSeasonDetailedResults.csv')\n",
    "\n",
    "WRegularSeasonCompactResults = pd.read_csv(path + 'WRegularSeasonCompactResults.csv')\n",
    "MRegularSeasonCompactResults = pd.read_csv(path + 'MRegularSeasonCompactResults.csv')\n",
    "\n",
    "MMasseyOrdinals = pd.read_csv(path + 'MMasseyOrdinals.csv')\n",
    "\n",
    "tourney_compact_results = pd.concat([MNCAATourneyCompactResults, WNCAATourneyCompactResults], ignore_index=True)\n",
    "tourney_detailed_results = pd.concat([MNCAATourneyDetailedResults, WNCAATourneyDetailedResults], ignore_index=True)\n",
    "seeds = pd.concat([MNCAATourneySeeds, WNCAATourneySeeds], ignore_index=True)\n",
    "regular_compact_results = pd.concat([MRegularSeasonCompactResults, WRegularSeasonCompactResults], ignore_index=True)\n",
    "regular_detailed_results = pd.concat([MRegularSeasonDetailedResults, WRegularSeasonDetailedResults], ignore_index=True)"
   ]
  },
  {
   "cell_type": "markdown",
   "id": "9766caf1",
   "metadata": {
    "papermill": {
     "duration": 0.013766,
     "end_time": "2025-07-05T15:07:31.995310",
     "exception": false,
     "start_time": "2025-07-05T15:07:31.981544",
     "status": "completed"
    },
    "tags": []
   },
   "source": [
    "# Preparing Data"
   ]
  },
  {
   "cell_type": "code",
   "execution_count": 3,
   "id": "94ab0b9d",
   "metadata": {
    "execution": {
     "iopub.execute_input": "2025-07-05T15:07:32.024065Z",
     "iopub.status.busy": "2025-07-05T15:07:32.023657Z",
     "iopub.status.idle": "2025-07-05T15:07:32.032799Z",
     "shell.execute_reply": "2025-07-05T15:07:32.031703Z"
    },
    "papermill": {
     "duration": 0.024958,
     "end_time": "2025-07-05T15:07:32.034695",
     "exception": false,
     "start_time": "2025-07-05T15:07:32.009737",
     "status": "completed"
    },
    "tags": []
   },
   "outputs": [],
   "source": [
    "def prepare_data(df, data_type='Detailed'):\n",
    "    if data_type == 'Detailed':\n",
    "        cols = ['Season', 'DayNum', 'LTeamID', 'LScore', 'WTeamID', 'WScore', 'WLoc', 'NumOT', \n",
    "                'LFGM', 'LFGA', 'LFGM3', 'LFGA3', 'LFTM', 'LFTA', 'LOR', 'LDR', 'LAst', 'LTO', 'LStl', 'LBlk', 'LPF', \n",
    "                'WFGM', 'WFGA', 'WFGM3', 'WFGA3', 'WFTM', 'WFTA', 'WOR', 'WDR', 'WAst', 'WTO', 'WStl', 'WBlk', 'WPF']\n",
    "    elif data_type == 'Compact':\n",
    "        cols = ['Season', 'DayNum', 'LTeamID', 'LScore', 'WTeamID', 'WScore', 'WLoc', 'NumOT']\n",
    "    else:\n",
    "        print('Unknown data type')\n",
    "        return\n",
    "        \n",
    "    dfswap = df[cols]\n",
    "    dfswap.loc[df['WLoc'] == 'H', 'WLoc'] = 'A'\n",
    "    dfswap.loc[df['WLoc'] == 'A', 'WLoc'] = 'H'\n",
    "    df.columns.values[6] = 'location'\n",
    "    dfswap.columns.values[6] = 'location'    \n",
    "      \n",
    "    df.columns = [x.replace('W','T1_').replace('L','T2_') for x in list(df.columns)]\n",
    "    dfswap.columns = [x.replace('L','T1_').replace('W','T2_') for x in list(dfswap.columns)]\n",
    "\n",
    "    output = pd.concat([df, dfswap]).reset_index(drop=True)\n",
    "    output.loc[output.location=='N','location'] = '0'\n",
    "    output.loc[output.location=='H','location'] = '1'\n",
    "    output.loc[output.location=='A','location'] = '-1'\n",
    "    output.location = output.location.astype(int)\n",
    "    \n",
    "    output['PointDiff'] = output['T1_Score'] - output['T2_Score']\n",
    "    \n",
    "    return output"
   ]
  },
  {
   "cell_type": "code",
   "execution_count": 4,
   "id": "496a771e",
   "metadata": {
    "execution": {
     "iopub.execute_input": "2025-07-05T15:07:32.061853Z",
     "iopub.status.busy": "2025-07-05T15:07:32.061527Z",
     "iopub.status.idle": "2025-07-05T15:07:32.836852Z",
     "shell.execute_reply": "2025-07-05T15:07:32.835759Z"
    },
    "papermill": {
     "duration": 0.791462,
     "end_time": "2025-07-05T15:07:32.839166",
     "exception": false,
     "start_time": "2025-07-05T15:07:32.047704",
     "status": "completed"
    },
    "tags": []
   },
   "outputs": [],
   "source": [
    "regular_detailed_data = prepare_data(regular_detailed_results, data_type='Detailed')\n",
    "tourney_detailed_data = prepare_data(tourney_detailed_results, data_type='Detailed')\n",
    "regular_compact_data = prepare_data(regular_compact_results, data_type='Compact')\n",
    "tourney_compact_data = prepare_data(tourney_compact_results, data_type='Compact')"
   ]
  },
  {
   "cell_type": "markdown",
   "id": "3b706baf",
   "metadata": {
    "papermill": {
     "duration": 0.012917,
     "end_time": "2025-07-05T15:07:32.865089",
     "exception": false,
     "start_time": "2025-07-05T15:07:32.852172",
     "status": "completed"
    },
    "tags": []
   },
   "source": [
    "# Feature engineering"
   ]
  },
  {
   "cell_type": "markdown",
   "id": "6e4a56f6",
   "metadata": {
    "papermill": {
     "duration": 0.012338,
     "end_time": "2025-07-05T15:07:32.889984",
     "exception": false,
     "start_time": "2025-07-05T15:07:32.877646",
     "status": "completed"
    },
    "tags": []
   },
   "source": [
    "## Possesions feats"
   ]
  },
  {
   "cell_type": "code",
   "execution_count": 5,
   "id": "98596c05",
   "metadata": {
    "execution": {
     "iopub.execute_input": "2025-07-05T15:07:32.916252Z",
     "iopub.status.busy": "2025-07-05T15:07:32.915809Z",
     "iopub.status.idle": "2025-07-05T15:07:32.964587Z",
     "shell.execute_reply": "2025-07-05T15:07:32.963422Z"
    },
    "papermill": {
     "duration": 0.064542,
     "end_time": "2025-07-05T15:07:32.966965",
     "exception": false,
     "start_time": "2025-07-05T15:07:32.902423",
     "status": "completed"
    },
    "tags": []
   },
   "outputs": [],
   "source": [
    "def add_possesions_feats(data):\n",
    "    data['T1_Poss'] = data['T1_FGA'] - data['T1_OR'] + data['T1_TO'] + 0.44 * data['T1_FTA'] # Possesions\n",
    "    data['T2_Poss'] = data['T2_FGA'] - data['T2_OR'] + data['T2_TO'] + 0.44 * data['T2_FTA'] # Possesions\n",
    "\n",
    "    data['T1_OE'] = data['T1_Score'] / data['T1_Poss'] # Team1 Offensive Efficiency\n",
    "    data['T2_OE'] = data['T2_Score'] / data['T2_Poss'] # Team2 Offensive Efficiency\n",
    "\n",
    "    data['T1_DE'] = data['T2_Score'] / data['T2_Poss'] # Team1 Defensive Efficiency\n",
    "    data['T2_DE'] = data['T1_Score'] / data['T1_Poss'] # Team2 Defensive Efficiency\n",
    "\n",
    "    data['Pace'] = (data['T1_Poss'] + data['T2_Poss']) / 2 # Game Pace\n",
    "\n",
    "    return data\n",
    "\n",
    "regular_detailed_data = add_possesions_feats(regular_detailed_data)\n",
    "tourney_detailed_data = add_possesions_feats(tourney_detailed_data)"
   ]
  },
  {
   "cell_type": "markdown",
   "id": "204ad3ce",
   "metadata": {
    "papermill": {
     "duration": 0.012117,
     "end_time": "2025-07-05T15:07:32.991773",
     "exception": false,
     "start_time": "2025-07-05T15:07:32.979656",
     "status": "completed"
    },
    "tags": []
   },
   "source": [
    "## Team Ratings"
   ]
  },
  {
   "cell_type": "code",
   "execution_count": 6,
   "id": "0ba7dcdc",
   "metadata": {
    "execution": {
     "iopub.execute_input": "2025-07-05T15:07:33.019039Z",
     "iopub.status.busy": "2025-07-05T15:07:33.018599Z",
     "iopub.status.idle": "2025-07-05T15:07:33.028218Z",
     "shell.execute_reply": "2025-07-05T15:07:33.026975Z"
    },
    "papermill": {
     "duration": 0.025639,
     "end_time": "2025-07-05T15:07:33.030078",
     "exception": false,
     "start_time": "2025-07-05T15:07:33.004439",
     "status": "completed"
    },
    "tags": []
   },
   "outputs": [],
   "source": [
    "def get_team_pointdiff_rating(reg_data):\n",
    "    all_seasons = sorted(reg_data['Season'].unique())\n",
    "    list_ratings = []\n",
    "\n",
    "    for season in all_seasons:\n",
    "        print(season, end=', ')\n",
    "        sub_data = reg_data[reg_data['Season'] == season].copy()\n",
    "        \n",
    "        team1_dummies = pd.get_dummies(sub_data['T1_TeamID'], prefix='T1')\n",
    "        team2_dummies = pd.get_dummies(sub_data['T2_TeamID'], prefix='T2')\n",
    "        \n",
    "        X = pd.concat([team1_dummies, team2_dummies, sub_data['location']], axis=1)\n",
    "        y = sub_data['PointDiff']\n",
    "\n",
    "        ridge_model = Ridge(alpha=10.0)\n",
    "        ridge_model.fit(X, y)\n",
    "\n",
    "        coef_series = pd.Series(ridge_model.coef_, index=X.columns)\n",
    "        intercept = ridge_model.intercept_\n",
    "        home_coef = coef_series['location']\n",
    "        t1_coefs = coef_series[coef_series.index.str.startswith('T1_')]\n",
    "        t2_coefs = coef_series[coef_series.index.str.startswith('T2_')]\n",
    "\n",
    "        df_t1 = pd.DataFrame({\n",
    "        'TeamID': t1_coefs.index.str.replace('T1_', '').astype(int),\n",
    "        'T1_coef': t1_coefs.values\n",
    "        })\n",
    "        df_t2 = pd.DataFrame({\n",
    "            'TeamID': t2_coefs.index.str.replace('T2_', '').astype(int),\n",
    "            'T2_coef': t2_coefs.values\n",
    "        })\n",
    "\n",
    "        merged = pd.merge(df_t1, df_t2, on='TeamID', how='outer')\n",
    "        merged['Season'] = season\n",
    "        merged['HomeAdvantage'] = home_coef\n",
    "        merged['Intercept'] = intercept\n",
    "\n",
    "        merged['PointDiff_Rating'] = (merged['T1_coef'] - merged['T2_coef']) / 2.0\n",
    "        list_ratings.append(merged)\n",
    "        \n",
    "    ratings_df = pd.concat(list_ratings, ignore_index=True)\n",
    "    \n",
    "    return ratings_df"
   ]
  },
  {
   "cell_type": "code",
   "execution_count": 7,
   "id": "0d37a114",
   "metadata": {
    "execution": {
     "iopub.execute_input": "2025-07-05T15:07:33.056648Z",
     "iopub.status.busy": "2025-07-05T15:07:33.056248Z",
     "iopub.status.idle": "2025-07-05T15:08:04.429382Z",
     "shell.execute_reply": "2025-07-05T15:08:04.427733Z"
    },
    "papermill": {
     "duration": 31.388945,
     "end_time": "2025-07-05T15:08:04.431450",
     "exception": false,
     "start_time": "2025-07-05T15:07:33.042505",
     "status": "completed"
    },
    "tags": []
   },
   "outputs": [
    {
     "name": "stdout",
     "output_type": "stream",
     "text": [
      "1985, 1986, 1987, 1988, 1989, 1990, 1991, 1992, 1993, 1994, 1995, 1996, 1997, 1998, 1999, 2000, 2001, 2002, 2003, 2004, 2005, 2006, 2007, 2008, 2009, 2010, 2011, 2012, 2013, 2014, 2015, 2016, 2017, 2018, 2019, 2020, 2021, 2022, 2023, 2024, 2025, CPU times: user 47 s, sys: 4.74 s, total: 51.8 s\n",
      "Wall time: 31.4 s\n"
     ]
    }
   ],
   "source": [
    "%%time\n",
    "point_diff_rating = get_team_pointdiff_rating(regular_compact_data)"
   ]
  },
  {
   "cell_type": "code",
   "execution_count": 8,
   "id": "1120c3da",
   "metadata": {
    "execution": {
     "iopub.execute_input": "2025-07-05T15:08:04.461629Z",
     "iopub.status.busy": "2025-07-05T15:08:04.461208Z",
     "iopub.status.idle": "2025-07-05T15:08:04.470768Z",
     "shell.execute_reply": "2025-07-05T15:08:04.469638Z"
    },
    "papermill": {
     "duration": 0.027081,
     "end_time": "2025-07-05T15:08:04.472472",
     "exception": false,
     "start_time": "2025-07-05T15:08:04.445391",
     "status": "completed"
    },
    "tags": []
   },
   "outputs": [],
   "source": [
    "def get_team_oe_rating(reg_data):\n",
    "    all_seasons = sorted(reg_data['Season'].unique())\n",
    "    list_ratings = []\n",
    "\n",
    "    for season in all_seasons:\n",
    "        print(season, end=', ')\n",
    "        sub_data = reg_data[reg_data['Season'] == season].copy()\n",
    "        \n",
    "        team1_dummies = pd.get_dummies(sub_data['T1_TeamID'], prefix='T1')\n",
    "        team2_dummies = pd.get_dummies(sub_data['T2_TeamID'], prefix='T2')\n",
    "        \n",
    "        X = pd.concat([team1_dummies, team2_dummies, sub_data['location']], axis=1)\n",
    "        y = sub_data['T1_OE']\n",
    "\n",
    "        ridge_model = Ridge(alpha=10.0)\n",
    "        ridge_model.fit(X, y)\n",
    "\n",
    "        coef_series = pd.Series(ridge_model.coef_, index=X.columns)\n",
    "        intercept = ridge_model.intercept_\n",
    "        loc_coef = coef_series['location']\n",
    "\n",
    "        t1_coefs = coef_series[coef_series.index.str.startswith('T1_')]\n",
    "        t2_coefs = coef_series[coef_series.index.str.startswith('T2_')]\n",
    "\n",
    "        df_t1 = pd.DataFrame({\n",
    "            'TeamID': t1_coefs.index.str.replace('T1_', '').astype(int),\n",
    "            'T1_coef': t1_coefs.values\n",
    "        })\n",
    "        df_t2 = pd.DataFrame({\n",
    "            'TeamID': t2_coefs.index.str.replace('T2_', '').astype(int),\n",
    "            'T2_coef': t2_coefs.values\n",
    "        })\n",
    "\n",
    "        merged = pd.merge(df_t1, df_t2, on='TeamID', how='outer')\n",
    "        merged['Season'] = season\n",
    "        merged['LocationCoef'] = loc_coef\n",
    "        merged['Intercept'] = intercept\n",
    "        merged['OE_Rating'] = (merged['T1_coef'] - merged['T2_coef']) / 2.0 + merged['Intercept']\n",
    "        list_ratings.append(merged)\n",
    "        \n",
    "    ratings_df = pd.concat(list_ratings, ignore_index=True)\n",
    "    return ratings_df"
   ]
  },
  {
   "cell_type": "code",
   "execution_count": 9,
   "id": "581cdf0a",
   "metadata": {
    "execution": {
     "iopub.execute_input": "2025-07-05T15:08:04.503382Z",
     "iopub.status.busy": "2025-07-05T15:08:04.502926Z",
     "iopub.status.idle": "2025-07-05T15:08:23.625202Z",
     "shell.execute_reply": "2025-07-05T15:08:23.623752Z"
    },
    "papermill": {
     "duration": 19.140297,
     "end_time": "2025-07-05T15:08:23.627072",
     "exception": false,
     "start_time": "2025-07-05T15:08:04.486775",
     "status": "completed"
    },
    "tags": []
   },
   "outputs": [
    {
     "name": "stdout",
     "output_type": "stream",
     "text": [
      "2003, 2004, 2005, 2006, 2007, 2008, 2009, 2010, 2011, 2012, 2013, 2014, 2015, 2016, 2017, 2018, 2019, 2020, 2021, 2022, 2023, 2024, 2025, CPU times: user 29.1 s, sys: 2.68 s, total: 31.8 s\n",
      "Wall time: 19.1 s\n"
     ]
    }
   ],
   "source": [
    "%%time\n",
    "oe_rating = get_team_oe_rating(regular_detailed_data)"
   ]
  },
  {
   "cell_type": "code",
   "execution_count": 10,
   "id": "07139e27",
   "metadata": {
    "execution": {
     "iopub.execute_input": "2025-07-05T15:08:23.658730Z",
     "iopub.status.busy": "2025-07-05T15:08:23.658400Z",
     "iopub.status.idle": "2025-07-05T15:08:23.667144Z",
     "shell.execute_reply": "2025-07-05T15:08:23.666029Z"
    },
    "papermill": {
     "duration": 0.026741,
     "end_time": "2025-07-05T15:08:23.669052",
     "exception": false,
     "start_time": "2025-07-05T15:08:23.642311",
     "status": "completed"
    },
    "tags": []
   },
   "outputs": [],
   "source": [
    "def get_team_de_rating(reg_data):\n",
    "    all_seasons = sorted(reg_data['Season'].unique())\n",
    "    list_ratings = []\n",
    "\n",
    "    for season in all_seasons:\n",
    "        print(season, end=', ')\n",
    "        sub_data = reg_data[reg_data['Season'] == season].copy()\n",
    "        \n",
    "        team1_dummies = pd.get_dummies(sub_data['T1_TeamID'], prefix='T1')\n",
    "        team2_dummies = pd.get_dummies(sub_data['T2_TeamID'], prefix='T2')\n",
    "        \n",
    "        X = pd.concat([team1_dummies, team2_dummies, sub_data['location']], axis=1)\n",
    "        y = sub_data['T1_DE']\n",
    "\n",
    "        ridge_model = Ridge(alpha=10.0)\n",
    "        ridge_model.fit(X, y)\n",
    "\n",
    "        coef_series = pd.Series(ridge_model.coef_, index=X.columns)\n",
    "        intercept = ridge_model.intercept_\n",
    "        loc_coef = coef_series['location']\n",
    "        \n",
    "        t1_coefs = coef_series[coef_series.index.str.startswith('T1_')]\n",
    "        t2_coefs = coef_series[coef_series.index.str.startswith('T2_')]\n",
    "\n",
    "        df_t1 = pd.DataFrame({\n",
    "            'TeamID': t1_coefs.index.str.replace('T1_', '').astype(int),\n",
    "            'T1_coef': t1_coefs.values\n",
    "        })\n",
    "        df_t2 = pd.DataFrame({\n",
    "            'TeamID': t2_coefs.index.str.replace('T2_', '').astype(int),\n",
    "            'T2_coef': t2_coefs.values\n",
    "        })\n",
    "\n",
    "        merged = pd.merge(df_t1, df_t2, on='TeamID', how='outer')\n",
    "        merged['Season'] = season\n",
    "        merged['LocationCoef'] = loc_coef\n",
    "        merged['Intercept'] = intercept\n",
    "        merged['DE_Rating'] = (merged['T1_coef'] - merged['T2_coef']) / 2.0 + merged['Intercept']\n",
    "        list_ratings.append(merged)\n",
    "        \n",
    "    ratings_df = pd.concat(list_ratings, ignore_index=True)\n",
    "    return ratings_df"
   ]
  },
  {
   "cell_type": "code",
   "execution_count": 11,
   "id": "5cfcdde5",
   "metadata": {
    "execution": {
     "iopub.execute_input": "2025-07-05T15:08:23.702868Z",
     "iopub.status.busy": "2025-07-05T15:08:23.702508Z",
     "iopub.status.idle": "2025-07-05T15:08:44.275583Z",
     "shell.execute_reply": "2025-07-05T15:08:44.274009Z"
    },
    "papermill": {
     "duration": 20.592188,
     "end_time": "2025-07-05T15:08:44.277458",
     "exception": false,
     "start_time": "2025-07-05T15:08:23.685270",
     "status": "completed"
    },
    "tags": []
   },
   "outputs": [
    {
     "name": "stdout",
     "output_type": "stream",
     "text": [
      "2003, 2004, 2005, 2006, 2007, 2008, 2009, 2010, 2011, 2012, 2013, 2014, 2015, 2016, 2017, 2018, 2019, 2020, 2021, 2022, 2023, 2024, 2025, CPU times: user 30.5 s, sys: 3.41 s, total: 33.9 s\n",
      "Wall time: 20.6 s\n"
     ]
    }
   ],
   "source": [
    "%%time\n",
    "de_rating = get_team_de_rating(regular_detailed_data)"
   ]
  },
  {
   "cell_type": "code",
   "execution_count": 12,
   "id": "6e4fea5f",
   "metadata": {
    "execution": {
     "iopub.execute_input": "2025-07-05T15:08:44.312012Z",
     "iopub.status.busy": "2025-07-05T15:08:44.311659Z",
     "iopub.status.idle": "2025-07-05T15:08:44.321752Z",
     "shell.execute_reply": "2025-07-05T15:08:44.319705Z"
    },
    "papermill": {
     "duration": 0.029853,
     "end_time": "2025-07-05T15:08:44.324220",
     "exception": false,
     "start_time": "2025-07-05T15:08:44.294367",
     "status": "completed"
    },
    "tags": []
   },
   "outputs": [],
   "source": [
    "def get_team_pace_rating(reg_data):\n",
    "    all_seasons = sorted(reg_data['Season'].unique())\n",
    "    list_ratings = []\n",
    "\n",
    "    for season in all_seasons:\n",
    "        print(season, end=', ')\n",
    "        sub_data = reg_data[reg_data['Season'] == season].copy()\n",
    "        \n",
    "        team1_dummies = pd.get_dummies(sub_data['T1_TeamID'], prefix='T1')\n",
    "        team2_dummies = pd.get_dummies(sub_data['T2_TeamID'], prefix='T2')\n",
    "        \n",
    "        X = pd.concat([team1_dummies, team2_dummies, sub_data['location']], axis=1)\n",
    "        y = sub_data['Pace']\n",
    "\n",
    "        ridge_model = Ridge(alpha=10.0)\n",
    "        ridge_model.fit(X, y)\n",
    "\n",
    "        coef_series = pd.Series(ridge_model.coef_, index=X.columns)\n",
    "        intercept = ridge_model.intercept_\n",
    "        loc_coef = coef_series['location']\n",
    "        \n",
    "        t1_coefs = coef_series[coef_series.index.str.startswith('T1_')]\n",
    "        t2_coefs = coef_series[coef_series.index.str.startswith('T2_')]\n",
    "\n",
    "        df_t1 = pd.DataFrame({\n",
    "            'TeamID': t1_coefs.index.str.replace('T1_', '').astype(int),\n",
    "            'T1_coef': t1_coefs.values\n",
    "        })\n",
    "        df_t2 = pd.DataFrame({\n",
    "            'TeamID': t2_coefs.index.str.replace('T2_', '').astype(int),\n",
    "            'T2_coef': t2_coefs.values\n",
    "        })\n",
    "\n",
    "        merged = pd.merge(df_t1, df_t2, on='TeamID', how='outer')\n",
    "        merged['Season'] = season\n",
    "        merged['LocationCoef'] = loc_coef\n",
    "        merged['Intercept'] = intercept\n",
    "\n",
    "        # прибавляем также merged['Intercept'] чтобы получить абсолютные оценки команд, \n",
    "        # а не их отклонения от среднего, что и показывает разница T1, T2 coef.\n",
    "        merged['Pace_Rating'] = (merged['T1_coef'] + merged['T2_coef']) / 2.0 + merged['Intercept']\n",
    "        list_ratings.append(merged)\n",
    "        \n",
    "    ratings_df = pd.concat(list_ratings, ignore_index=True)\n",
    "    return ratings_df"
   ]
  },
  {
   "cell_type": "code",
   "execution_count": 13,
   "id": "797b5101",
   "metadata": {
    "execution": {
     "iopub.execute_input": "2025-07-05T15:08:44.360756Z",
     "iopub.status.busy": "2025-07-05T15:08:44.360347Z",
     "iopub.status.idle": "2025-07-05T15:09:04.003638Z",
     "shell.execute_reply": "2025-07-05T15:09:04.002193Z"
    },
    "papermill": {
     "duration": 19.66398,
     "end_time": "2025-07-05T15:09:04.005602",
     "exception": false,
     "start_time": "2025-07-05T15:08:44.341622",
     "status": "completed"
    },
    "tags": []
   },
   "outputs": [
    {
     "name": "stdout",
     "output_type": "stream",
     "text": [
      "2003, 2004, 2005, 2006, 2007, 2008, 2009, 2010, 2011, 2012, 2013, 2014, 2015, 2016, 2017, 2018, 2019, 2020, 2021, 2022, 2023, 2024, 2025, CPU times: user 29.4 s, sys: 2.97 s, total: 32.4 s\n",
      "Wall time: 19.6 s\n"
     ]
    }
   ],
   "source": [
    "%%time\n",
    "pace_rating = get_team_pace_rating(regular_detailed_data) # только для detailed можно"
   ]
  },
  {
   "cell_type": "code",
   "execution_count": 14,
   "id": "c1a81351",
   "metadata": {
    "execution": {
     "iopub.execute_input": "2025-07-05T15:09:04.043129Z",
     "iopub.status.busy": "2025-07-05T15:09:04.042552Z",
     "iopub.status.idle": "2025-07-05T15:09:04.058579Z",
     "shell.execute_reply": "2025-07-05T15:09:04.056812Z"
    },
    "papermill": {
     "duration": 0.037783,
     "end_time": "2025-07-05T15:09:04.061089",
     "exception": false,
     "start_time": "2025-07-05T15:09:04.023306",
     "status": "completed"
    },
    "tags": []
   },
   "outputs": [],
   "source": [
    "def merge_team_ratings(tourney_df, point_diff_df, oe_df, de_df, pace_df):\n",
    "    \"\"\"\n",
    "    Соединяет турнирные данные (tourney_df) с финальными рейтингами\n",
    "    (point_diff_df, oe_df, de_df, pace_df) для Team1 и Team2.\n",
    "    Возвращает DataFrame с префиксами T1_ и T2_ для рейтингов.\n",
    "    \"\"\"\n",
    "    # Возьмем только нужные фичи\n",
    "    point_diff_df = point_diff_df[['TeamID', 'Season', 'PointDiff_Rating']]\n",
    "    oe_df = oe_df[['TeamID', 'Season', 'OE_Rating']]\n",
    "    de_df = de_df[['TeamID', 'Season', 'DE_Rating']]\n",
    "    pace_df = pace_df[['TeamID', 'Season', 'Pace_Rating']]\n",
    "    \n",
    "    # Смерджим Team1\n",
    "    df = tourney_df.merge(point_diff_df, \n",
    "                          left_on=['Season','T1_TeamID'], \n",
    "                          right_on=['Season','TeamID'], \n",
    "                          how='left')\n",
    "    df.rename(columns={'PointDiff_Rating':'T1_PointDiff_Rating'}, inplace=True)\n",
    "    df.drop(columns='TeamID', inplace=True)\n",
    "\n",
    "    df = df.merge(oe_df, left_on=['Season','T1_TeamID'], \n",
    "                  right_on=['Season','TeamID'], how='left')\n",
    "    df.rename(columns={'OE_Rating':'T1_OE_Rating'}, inplace=True)\n",
    "    df.drop(columns='TeamID', inplace=True)\n",
    "\n",
    "    df = df.merge(de_df, left_on=['Season','T1_TeamID'],\n",
    "                  right_on=['Season','TeamID'], how='left')\n",
    "    df.rename(columns={'DE_Rating':'T1_DE_Rating'}, inplace=True)\n",
    "    df.drop(columns='TeamID', inplace=True)\n",
    "\n",
    "    df = df.merge(pace_df, left_on=['Season','T1_TeamID'],\n",
    "                  right_on=['Season','TeamID'], how='left')\n",
    "    df.rename(columns={'Pace_Rating':'T1_Pace_Rating'}, inplace=True)\n",
    "    df.drop(columns='TeamID', inplace=True)\n",
    "\n",
    "    # Аналогично для Team2\n",
    "    df = df.merge(point_diff_df, \n",
    "                  left_on=['Season','T2_TeamID'], \n",
    "                  right_on=['Season','TeamID'], \n",
    "                  how='left')\n",
    "    df.rename(columns={'PointDiff_Rating':'T2_PointDiff_Rating'}, inplace=True)\n",
    "    df.drop(columns='TeamID', inplace=True)\n",
    "\n",
    "    df = df.merge(oe_df, left_on=['Season','T2_TeamID'], \n",
    "                  right_on=['Season','TeamID'], how='left')\n",
    "    df.rename(columns={'OE_Rating':'T2_OE_Rating'}, inplace=True)\n",
    "    df.drop(columns='TeamID', inplace=True)\n",
    "\n",
    "    df = df.merge(de_df, left_on=['Season','T2_TeamID'], \n",
    "                  right_on=['Season','TeamID'], how='left')\n",
    "    df.rename(columns={'DE_Rating':'T2_DE_Rating'}, inplace=True)\n",
    "    df.drop(columns='TeamID', inplace=True)\n",
    "\n",
    "    df = df.merge(pace_df, left_on=['Season','T2_TeamID'],\n",
    "                  right_on=['Season','TeamID'], how='left')\n",
    "    df.rename(columns={'Pace_Rating':'T2_Pace_Rating'}, inplace=True)\n",
    "    df.drop(columns='TeamID', inplace=True)\n",
    "\n",
    "    return df"
   ]
  },
  {
   "cell_type": "code",
   "execution_count": 15,
   "id": "df0084c9",
   "metadata": {
    "execution": {
     "iopub.execute_input": "2025-07-05T15:09:04.106298Z",
     "iopub.status.busy": "2025-07-05T15:09:04.105853Z",
     "iopub.status.idle": "2025-07-05T15:09:04.178245Z",
     "shell.execute_reply": "2025-07-05T15:09:04.176675Z"
    },
    "papermill": {
     "duration": 0.094802,
     "end_time": "2025-07-05T15:09:04.180416",
     "exception": false,
     "start_time": "2025-07-05T15:09:04.085614",
     "status": "completed"
    },
    "tags": []
   },
   "outputs": [
    {
     "name": "stdout",
     "output_type": "stream",
     "text": [
      "CPU times: user 61.5 ms, sys: 1.94 ms, total: 63.4 ms\n",
      "Wall time: 65.7 ms\n"
     ]
    }
   ],
   "source": [
    "%%time\n",
    "tourney_detailed_data = merge_team_ratings(tourney_detailed_data, point_diff_rating,\n",
    "                                           oe_rating, de_rating, pace_rating)"
   ]
  },
  {
   "cell_type": "markdown",
   "id": "fe55f480",
   "metadata": {
    "papermill": {
     "duration": 0.018372,
     "end_time": "2025-07-05T15:09:04.217559",
     "exception": false,
     "start_time": "2025-07-05T15:09:04.199187",
     "status": "completed"
    },
    "tags": []
   },
   "source": [
    "## Regular season stat"
   ]
  },
  {
   "cell_type": "code",
   "execution_count": 16,
   "id": "c63b1781",
   "metadata": {
    "execution": {
     "iopub.execute_input": "2025-07-05T15:09:04.261226Z",
     "iopub.status.busy": "2025-07-05T15:09:04.260772Z",
     "iopub.status.idle": "2025-07-05T15:09:04.524921Z",
     "shell.execute_reply": "2025-07-05T15:09:04.523494Z"
    },
    "papermill": {
     "duration": 0.289583,
     "end_time": "2025-07-05T15:09:04.527369",
     "exception": false,
     "start_time": "2025-07-05T15:09:04.237786",
     "status": "completed"
    },
    "tags": []
   },
   "outputs": [],
   "source": [
    "def add_boxcore_feats(regular_data, tourney_data, data_type='detailed', sub_data=False):\n",
    "    boxscore_cols = ['T1_Score', 'T2_Score', 'PointDiff',\n",
    "        'T1_FGM', 'T1_FGA', 'T1_FGM3', 'T1_FGA3', 'T1_FTM', 'T1_FTA', 'T1_OR', 'T1_DR', 'T1_Ast', 'T1_TO', 'T1_Stl', 'T1_Blk', 'T1_PF', \n",
    "        'T2_FGM', 'T2_FGA', 'T2_FGM3', 'T2_FGA3', 'T2_FTM', 'T2_FTA', 'T2_OR', 'T2_DR', 'T2_Ast', 'T2_TO', 'T2_Stl', 'T2_Blk', 'T2_PF']\n",
    "    if data_type == 'compact': boxscore_cols = ['T1_Score', 'T2_Score', 'PointDiff']\n",
    "    \n",
    "    season_statistics = regular_data.groupby([\"Season\", 'T1_TeamID'])[boxscore_cols].agg('mean').reset_index()\n",
    "    season_statistics.columns = [''.join(col).strip() for col in season_statistics.columns.values]\n",
    "    \n",
    "    season_statistics_T1 = season_statistics.copy()\n",
    "    season_statistics_T2 = season_statistics.copy()\n",
    "    \n",
    "    season_statistics_T1.columns = [\"T1_\" + \"reg_\" + x.replace(\"T1_\",\"\").replace(\"T2_\",\"opponent_\") for x in list(season_statistics_T1.columns)]\n",
    "    season_statistics_T2.columns = [\"T2_\" + \"reg_\" + x.replace(\"T1_\",\"\").replace(\"T2_\",\"opponent_\") for x in list(season_statistics_T2.columns)]\n",
    "    season_statistics_T1.columns.values[0] = \"Season\"\n",
    "    season_statistics_T2.columns.values[0] = \"Season\"\n",
    "    season_statistics_T1.columns.values[1] = \"T1_TeamID\"\n",
    "    season_statistics_T2.columns.values[1] = \"T2_TeamID\"\n",
    "\n",
    "    cols_for_drop = ['T1_FGM', 'T1_FGA', 'T1_FGM3', 'T1_FGA3', 'T1_FTM', 'T1_FTA', 'T1_OR', 'T1_DR', 'T1_Ast', 'T1_TO', 'T1_Stl', 'T1_Blk', 'T1_PF', 'T2_FGM', 'T2_FGA', 'T2_FGM3', 'T2_FGA3', 'T2_FTM', 'T2_FTA', 'T2_OR', 'T2_DR', 'T2_Ast', 'T2_TO', 'T2_Stl', 'T2_Blk', 'T2_PF']\n",
    "    if data_type == 'detailed' and not sub_data: tourney_data = tourney_data.drop(columns=cols_for_drop)\n",
    "    tourney_data = pd.merge(tourney_data, season_statistics_T1, on = ['Season', 'T1_TeamID'], how = 'left')\n",
    "    tourney_data = pd.merge(tourney_data, season_statistics_T2, on = ['Season', 'T2_TeamID'], how = 'left')\n",
    "\n",
    "    return tourney_data\n",
    "\n",
    "tourney_detailed_data = add_boxcore_feats(regular_detailed_data, tourney_detailed_data, data_type='detailed')\n",
    "tourney_compact_data = add_boxcore_feats(regular_compact_data, tourney_compact_data, data_type='compact')"
   ]
  },
  {
   "cell_type": "markdown",
   "id": "1b1aad5c",
   "metadata": {
    "papermill": {
     "duration": 0.018192,
     "end_time": "2025-07-05T15:09:04.566747",
     "exception": false,
     "start_time": "2025-07-05T15:09:04.548555",
     "status": "completed"
    },
    "tags": []
   },
   "source": [
    "## Last 14 days stat"
   ]
  },
  {
   "cell_type": "code",
   "execution_count": 17,
   "id": "f1b393c5",
   "metadata": {
    "execution": {
     "iopub.execute_input": "2025-07-05T15:09:04.607873Z",
     "iopub.status.busy": "2025-07-05T15:09:04.607452Z",
     "iopub.status.idle": "2025-07-05T15:09:04.743664Z",
     "shell.execute_reply": "2025-07-05T15:09:04.742516Z"
    },
    "papermill": {
     "duration": 0.158208,
     "end_time": "2025-07-05T15:09:04.745826",
     "exception": false,
     "start_time": "2025-07-05T15:09:04.587618",
     "status": "completed"
    },
    "tags": []
   },
   "outputs": [],
   "source": [
    "def add_last_14_days_feats(regular_data, tourney_data):\n",
    "    last14days_stats_T1 = regular_data.loc[regular_data.DayNum>118].reset_index(drop=True)\n",
    "    last14days_stats_T1['win'] = np.where(last14days_stats_T1['PointDiff']>0,1,0)\n",
    "    last14days_stats_T1 = last14days_stats_T1.groupby(['Season','T1_TeamID'])['win'].mean().reset_index(name='T1_win_ratio_14d')\n",
    "    \n",
    "    last14days_stats_T2 = regular_data.loc[regular_data.DayNum>118].reset_index(drop=True)\n",
    "    last14days_stats_T2['win'] = np.where(last14days_stats_T2['PointDiff']<0,1,0)\n",
    "    last14days_stats_T2 = last14days_stats_T2.groupby(['Season','T2_TeamID'])['win'].mean().reset_index(name='T2_win_ratio_14d')\n",
    "    \n",
    "    tourney_data = pd.merge(tourney_data, last14days_stats_T1, on = ['Season', 'T1_TeamID'], how = 'left')\n",
    "    tourney_data = pd.merge(tourney_data, last14days_stats_T2, on = ['Season', 'T2_TeamID'], how = 'left')\n",
    "\n",
    "    return tourney_data\n",
    "\n",
    "tourney_detailed_data = add_last_14_days_feats(regular_detailed_data, tourney_detailed_data)\n",
    "tourney_compact_data = add_last_14_days_feats(regular_compact_data, tourney_compact_data)"
   ]
  },
  {
   "cell_type": "markdown",
   "id": "2f593ec2",
   "metadata": {
    "papermill": {
     "duration": 0.018042,
     "end_time": "2025-07-05T15:09:04.782636",
     "exception": false,
     "start_time": "2025-07-05T15:09:04.764594",
     "status": "completed"
    },
    "tags": []
   },
   "source": [
    "## Num wins and loss, win ratio"
   ]
  },
  {
   "cell_type": "code",
   "execution_count": 18,
   "id": "18abded4",
   "metadata": {
    "execution": {
     "iopub.execute_input": "2025-07-05T15:09:04.821278Z",
     "iopub.status.busy": "2025-07-05T15:09:04.820822Z",
     "iopub.status.idle": "2025-07-05T15:09:05.263170Z",
     "shell.execute_reply": "2025-07-05T15:09:05.262000Z"
    },
    "papermill": {
     "duration": 0.464269,
     "end_time": "2025-07-05T15:09:05.265552",
     "exception": false,
     "start_time": "2025-07-05T15:09:04.801283",
     "status": "completed"
    },
    "tags": []
   },
   "outputs": [],
   "source": [
    "def add_win_loss_feats(regular_data, tourney_data):\n",
    "    num_games = regular_data.groupby(['Season', 'T1_TeamID']).count().reset_index()\n",
    "    num_games = num_games[['Season', 'T1_TeamID', 'DayNum']].rename(columns={\"DayNum\": \"NumGames\", \"T1_TeamID\": \"TeamID\"})\n",
    "    \n",
    "    num_win = regular_data[regular_data['PointDiff'] > 0].groupby(['Season', 'T1_TeamID']).count().reset_index()\n",
    "    num_win = num_win[['Season', 'T1_TeamID', 'DayNum']].rename(columns={\"DayNum\": \"NumWins\", \"T1_TeamID\": \"TeamID\"})\n",
    "    \n",
    "    num_loss = regular_data[regular_data['PointDiff'] < 0].groupby(['Season', 'T1_TeamID']).count().reset_index()\n",
    "    num_loss = num_loss[['Season', 'T1_TeamID', 'DayNum']].rename(columns={\"DayNum\": \"NumLosses\", \"T1_TeamID\": \"TeamID\"})\n",
    "    \n",
    "    win_loss_stat = pd.merge(num_games, num_win, on=['Season', 'TeamID'], how='left')\n",
    "    win_loss_stat = pd.merge(win_loss_stat, num_loss, on=['Season', 'TeamID'], how='left')\n",
    "    win_loss_stat = win_loss_stat.fillna(0)\n",
    "    \n",
    "    win_loss_stat['WinRatio'] = win_loss_stat['NumWins'] / win_loss_stat['NumGames']\n",
    "    \n",
    "    win_loss_stat_T1 = win_loss_stat.copy()\n",
    "    win_loss_stat_T1.columns = ['Season','T1_TeamID','T1_NumGames','T1_NumWins','T1_NumLosses','T1_WinRatio']\n",
    "    win_loss_stat_T2 = win_loss_stat.copy()\n",
    "    win_loss_stat_T2.columns = ['Season','T2_TeamID','T2_NumGames','T2_NumWins','T2_NumLosses','T2_WinRatio']\n",
    "    \n",
    "    tourney_data = pd.merge(tourney_data, win_loss_stat_T1, on=['Season', 'T1_TeamID'], how='left')\n",
    "    tourney_data = pd.merge(tourney_data, win_loss_stat_T2, on=['Season', 'T2_TeamID'], how='left')\n",
    "\n",
    "    return tourney_data\n",
    "\n",
    "tourney_detailed_data = add_win_loss_feats(regular_detailed_data, tourney_detailed_data)\n",
    "tourney_compact_data = add_win_loss_feats(regular_compact_data, tourney_compact_data)"
   ]
  },
  {
   "cell_type": "markdown",
   "id": "f504ead7",
   "metadata": {
    "papermill": {
     "duration": 0.016731,
     "end_time": "2025-07-05T15:09:05.305298",
     "exception": false,
     "start_time": "2025-07-05T15:09:05.288567",
     "status": "completed"
    },
    "tags": []
   },
   "source": [
    "## Tourney seeds"
   ]
  },
  {
   "cell_type": "code",
   "execution_count": 19,
   "id": "804c2937",
   "metadata": {
    "execution": {
     "iopub.execute_input": "2025-07-05T15:09:05.350451Z",
     "iopub.status.busy": "2025-07-05T15:09:05.349871Z",
     "iopub.status.idle": "2025-07-05T15:09:05.409770Z",
     "shell.execute_reply": "2025-07-05T15:09:05.408462Z"
    },
    "papermill": {
     "duration": 0.082548,
     "end_time": "2025-07-05T15:09:05.411958",
     "exception": false,
     "start_time": "2025-07-05T15:09:05.329410",
     "status": "completed"
    },
    "tags": []
   },
   "outputs": [],
   "source": [
    "def add_seeds_feats(tourney_data, seeds):\n",
    "    seeds['Playin_seed'] = np.where(seeds['Seed'].str.len() > 3, 1, 0)\n",
    "    seeds['seed'] = seeds['Seed'].apply(lambda x: int(x[1:3]))\n",
    "    \n",
    "    seeds_T1 = seeds[['Season','TeamID','seed', 'Playin_seed']].copy()\n",
    "    seeds_T2 = seeds[['Season','TeamID','seed', 'Playin_seed']].copy()\n",
    "    seeds_T1.columns = ['Season','T1_TeamID','T1_seed','T1_Playin_seed']\n",
    "    seeds_T2.columns = ['Season','T2_TeamID','T2_seed','T2_Playin_seed']\n",
    "    \n",
    "    tourney_data = pd.merge(tourney_data, seeds_T1, on = ['Season', 'T1_TeamID'], how = 'left')\n",
    "    tourney_data = pd.merge(tourney_data, seeds_T2, on = ['Season', 'T2_TeamID'], how = 'left')\n",
    "\n",
    "    return tourney_data\n",
    "\n",
    "tourney_detailed_data = add_seeds_feats(tourney_detailed_data, seeds)\n",
    "tourney_compact_data = add_seeds_feats(tourney_compact_data, seeds)"
   ]
  },
  {
   "cell_type": "markdown",
   "id": "4f1e791c",
   "metadata": {
    "papermill": {
     "duration": 0.019389,
     "end_time": "2025-07-05T15:09:05.450086",
     "exception": false,
     "start_time": "2025-07-05T15:09:05.430697",
     "status": "completed"
    },
    "tags": []
   },
   "source": [
    "## Massey Ordinals"
   ]
  },
  {
   "cell_type": "code",
   "execution_count": 20,
   "id": "ab6dbc32",
   "metadata": {
    "execution": {
     "iopub.execute_input": "2025-07-05T15:09:05.502107Z",
     "iopub.status.busy": "2025-07-05T15:09:05.501593Z",
     "iopub.status.idle": "2025-07-05T15:09:05.598926Z",
     "shell.execute_reply": "2025-07-05T15:09:05.597531Z"
    },
    "papermill": {
     "duration": 0.131939,
     "end_time": "2025-07-05T15:09:05.601469",
     "exception": false,
     "start_time": "2025-07-05T15:09:05.469530",
     "status": "completed"
    },
    "tags": []
   },
   "outputs": [],
   "source": [
    "def add_massey_ordinals_feats(MMasseyOrdinals, tourney_data):\n",
    "    massey_ordinals = MMasseyOrdinals[MMasseyOrdinals['RankingDayNum'] == 128].reset_index(drop=True)\n",
    "    massey_ordinals = massey_ordinals.groupby(['Season', 'TeamID'])['OrdinalRank'].agg(['mean', 'max', 'min']).reset_index()\n",
    "    \n",
    "    massey_ordinals_T1 = massey_ordinals.copy()\n",
    "    massey_ordinals_T2 = massey_ordinals.copy()\n",
    "    massey_ordinals_T1.columns = ['Season', 'T1_TeamID', 'T1_ordinal_rank_mean', 'T1_ordinal_rank_max', 'T1_ordinal_rank_min']\n",
    "    massey_ordinals_T2.columns = ['Season', 'T2_TeamID', 'T2_ordinal_rank_mean', 'T2_ordinal_rank_max', 'T2_ordinal_rank_min']\n",
    "    \n",
    "    tourney_data = pd.merge(tourney_data, massey_ordinals_T1, on=['Season', 'T1_TeamID'], how='left')\n",
    "    tourney_data = pd.merge(tourney_data, massey_ordinals_T2, on=['Season', 'T2_TeamID'], how='left')\n",
    "\n",
    "    return tourney_data\n",
    "\n",
    "tourney_detailed_data = add_massey_ordinals_feats(MMasseyOrdinals, tourney_detailed_data)"
   ]
  },
  {
   "cell_type": "markdown",
   "id": "524525fe",
   "metadata": {
    "papermill": {
     "duration": 0.018313,
     "end_time": "2025-07-05T15:09:05.639161",
     "exception": false,
     "start_time": "2025-07-05T15:09:05.620848",
     "status": "completed"
    },
    "tags": []
   },
   "source": [
    "## Diff feats"
   ]
  },
  {
   "cell_type": "code",
   "execution_count": 21,
   "id": "73c2ea59",
   "metadata": {
    "execution": {
     "iopub.execute_input": "2025-07-05T15:09:05.677401Z",
     "iopub.status.busy": "2025-07-05T15:09:05.676994Z",
     "iopub.status.idle": "2025-07-05T15:09:05.714442Z",
     "shell.execute_reply": "2025-07-05T15:09:05.713248Z"
    },
    "papermill": {
     "duration": 0.05911,
     "end_time": "2025-07-05T15:09:05.716702",
     "exception": false,
     "start_time": "2025-07-05T15:09:05.657592",
     "status": "completed"
    },
    "tags": []
   },
   "outputs": [],
   "source": [
    "def add_diff_feats(tourney_data, data_type='detailed'):\n",
    "    box_score_names = ['Score', 'FGM', 'FGA', 'FGM3', 'FGA3', 'FTM', 'FTA',\n",
    "                       'OR', 'DR', 'Ast', 'TO', 'Stl', 'Blk', 'PF']\n",
    "    if data_type == 'compact': box_score_names = []\n",
    "    box_score_other_names = ['PointDiff']\n",
    "    box_score_opponent_names = ['opponent_' + col for col in box_score_names]\n",
    "    box_score_reg_names = ['reg_' + col for col in box_score_names + box_score_opponent_names + box_score_other_names]\n",
    "    other_feats_names = ['win_ratio_14d', 'seed', 'ordinal_rank_mean', 'ordinal_rank_max', 'ordinal_rank_min',\n",
    "                         'NumGames', 'NumWins','NumLosses', 'WinRatio',\n",
    "                         'PointDiff_Rating', 'OE_Rating', 'DE_Rating', 'Pace_Rating']\n",
    "#                         'quality']\n",
    "    if data_type == 'compact': other_feats_names = ['win_ratio_14d', 'seed', 'NumGames', 'NumWins','NumLosses', 'WinRatio']\n",
    "    cols_to_diff = box_score_reg_names + other_feats_names\n",
    "    diff_cols = [col + '_Diff' for col in cols_to_diff]\n",
    "    \n",
    "    for col in cols_to_diff:\n",
    "        tourney_data[col + '_Diff'] = tourney_data['T1_' + col] - tourney_data['T2_' + col]\n",
    "\n",
    "    return tourney_data\n",
    "\n",
    "tourney_detailed_data = add_diff_feats(tourney_detailed_data, data_type='detailed')\n",
    "tourney_compact_data = add_diff_feats(tourney_compact_data, data_type='compact')"
   ]
  },
  {
   "cell_type": "markdown",
   "id": "ffc4805d",
   "metadata": {
    "papermill": {
     "duration": 0.017719,
     "end_time": "2025-07-05T15:09:05.839576",
     "exception": false,
     "start_time": "2025-07-05T15:09:05.821857",
     "status": "completed"
    },
    "tags": []
   },
   "source": [
    "## OE and Pace predict feats"
   ]
  },
  {
   "cell_type": "code",
   "execution_count": 22,
   "id": "585568a3",
   "metadata": {
    "execution": {
     "iopub.execute_input": "2025-07-05T15:09:05.877394Z",
     "iopub.status.busy": "2025-07-05T15:09:05.877037Z",
     "iopub.status.idle": "2025-07-05T15:09:05.885809Z",
     "shell.execute_reply": "2025-07-05T15:09:05.884698Z"
    },
    "papermill": {
     "duration": 0.029929,
     "end_time": "2025-07-05T15:09:05.887854",
     "exception": false,
     "start_time": "2025-07-05T15:09:05.857925",
     "status": "completed"
    },
    "tags": []
   },
   "outputs": [],
   "source": [
    "def train_and_predict_oe(tourney_df_merged, team, for_sub_data=False, sub_data=None, logs=True):\n",
    "    all_seasons = sorted(tourney_df_merged['Season'].unique())\n",
    "    if for_sub_data: all_seasons.append(2025)\n",
    "    result_list, mses = [], []\n",
    "\n",
    "    for i, s in enumerate(all_seasons):\n",
    "        if for_sub_data and s != 2025: continue\n",
    "        if not for_sub_data and i == 0: continue\n",
    "\n",
    "        train_seasons = all_seasons[:i]  # все до s\n",
    "        train_df = tourney_df_merged[tourney_df_merged['Season'].isin(train_seasons)]\n",
    "        test_df  = tourney_df_merged[tourney_df_merged['Season'] == s]\n",
    "        if sub_data is not None: test_df = sub_data\n",
    "\n",
    "        features = [\n",
    "            'T1_PointDiff_Rating', 'T1_OE_Rating', 'T1_DE_Rating', 'T1_Pace_Rating',\n",
    "            'T2_PointDiff_Rating', 'T2_OE_Rating', 'T2_DE_Rating', 'T2_Pace_Rating',\n",
    "        ]\n",
    "        X_train, X_test = train_df[features], test_df[features]\n",
    "        y_train = train_df[f'{team}_OE']\n",
    "        if sub_data is None: y_test = test_df[f'{team}_OE']\n",
    "\n",
    "        model = xgb.XGBRegressor(n_estimators=100, max_depth=3, learning_rate=0.1)\n",
    "        model.fit(X_train, y_train)\n",
    "\n",
    "        y_pred = model.predict(X_test)\n",
    "        temp = test_df[['Season', 'T1_TeamID', 'T2_TeamID']].copy()\n",
    "        temp[f'{team}_OE_Pred'] = y_pred\n",
    "        result_list.append(temp)\n",
    "\n",
    "        if sub_data is None: mse_val = mean_squared_error(y_test, y_pred)\n",
    "        if sub_data is None: mses.append(mse_val)\n",
    "        if logs: print(f\"Season {s}: MSE = {mse_val:.4f}\")\n",
    "    if logs: print(f'Mean seasons MSE = {np.mean(mses):.4f}')\n",
    "    final_result = pd.concat(result_list, ignore_index=True)\n",
    "        \n",
    "    return final_result"
   ]
  },
  {
   "cell_type": "code",
   "execution_count": 23,
   "id": "1719a853",
   "metadata": {
    "execution": {
     "iopub.execute_input": "2025-07-05T15:09:05.929977Z",
     "iopub.status.busy": "2025-07-05T15:09:05.929571Z",
     "iopub.status.idle": "2025-07-05T15:09:08.924268Z",
     "shell.execute_reply": "2025-07-05T15:09:08.923444Z"
    },
    "papermill": {
     "duration": 3.01963,
     "end_time": "2025-07-05T15:09:08.926662",
     "exception": false,
     "start_time": "2025-07-05T15:09:05.907032",
     "status": "completed"
    },
    "tags": []
   },
   "outputs": [],
   "source": [
    "T1_OE_preds = train_and_predict_oe(tourney_detailed_data, 'T1', logs=False)\n",
    "T2_OE_preds = train_and_predict_oe(tourney_detailed_data, 'T2', logs=False)"
   ]
  },
  {
   "cell_type": "code",
   "execution_count": 24,
   "id": "cf689500",
   "metadata": {
    "execution": {
     "iopub.execute_input": "2025-07-05T15:09:08.966510Z",
     "iopub.status.busy": "2025-07-05T15:09:08.966148Z",
     "iopub.status.idle": "2025-07-05T15:09:08.974591Z",
     "shell.execute_reply": "2025-07-05T15:09:08.973410Z"
    },
    "papermill": {
     "duration": 0.031496,
     "end_time": "2025-07-05T15:09:08.976760",
     "exception": false,
     "start_time": "2025-07-05T15:09:08.945264",
     "status": "completed"
    },
    "tags": []
   },
   "outputs": [],
   "source": [
    "def train_and_predict_pace(tourney_df_merged, for_sub_data=False, sub_data=None, logs=True):\n",
    "    all_seasons = sorted(tourney_df_merged['Season'].unique())\n",
    "    if for_sub_data: all_seasons.append(2025)\n",
    "    result_list, mses = [], []\n",
    "\n",
    "    for i, s in enumerate(all_seasons):\n",
    "        if for_sub_data and s != 2025: continue\n",
    "        if not for_sub_data and i == 0: continue\n",
    "\n",
    "        train_seasons = all_seasons[:i]  # все до s\n",
    "        train_df = tourney_df_merged[tourney_df_merged['Season'].isin(train_seasons)]\n",
    "        test_df  = tourney_df_merged[tourney_df_merged['Season'] == s]\n",
    "        if sub_data is not None: test_df = sub_data\n",
    "\n",
    "        features = [\n",
    "            'T1_PointDiff_Rating', 'T1_OE_Rating', 'T1_DE_Rating', 'T1_Pace_Rating',\n",
    "            'T2_PointDiff_Rating', 'T2_OE_Rating', 'T2_DE_Rating', 'T2_Pace_Rating',\n",
    "        ]\n",
    "        X_train, X_test = train_df[features], test_df[features]\n",
    "        y_train = train_df['Pace']\n",
    "        if sub_data is None: y_test = test_df['Pace']\n",
    "\n",
    "        model = xgb.XGBRegressor(n_estimators=50, max_depth=2, learning_rate=0.1)\n",
    "        model.fit(X_train, y_train)\n",
    "\n",
    "        y_pred = model.predict(X_test)\n",
    "        temp = test_df[['Season', 'T1_TeamID', 'T2_TeamID']].copy()\n",
    "        temp['Pace_Pred'] = y_pred\n",
    "        result_list.append(temp)\n",
    "\n",
    "        if sub_data is None: mse_val = mean_squared_error(y_test, y_pred)\n",
    "        if sub_data is None: mses.append(mse_val)\n",
    "        if logs: print(f\"Season {s}: MSE = {mse_val:.4f}\")\n",
    "    if logs: print(f'Mean seasons MSE = {np.mean(mses):.4f}')\n",
    "    final_result = pd.concat(result_list, ignore_index=True)\n",
    "    return final_result"
   ]
  },
  {
   "cell_type": "code",
   "execution_count": 25,
   "id": "2ff3219b",
   "metadata": {
    "execution": {
     "iopub.execute_input": "2025-07-05T15:09:09.015061Z",
     "iopub.status.busy": "2025-07-05T15:09:09.014623Z",
     "iopub.status.idle": "2025-07-05T15:09:09.847338Z",
     "shell.execute_reply": "2025-07-05T15:09:09.846231Z"
    },
    "papermill": {
     "duration": 0.853834,
     "end_time": "2025-07-05T15:09:09.849426",
     "exception": false,
     "start_time": "2025-07-05T15:09:08.995592",
     "status": "completed"
    },
    "tags": []
   },
   "outputs": [],
   "source": [
    "Pace_preds = train_and_predict_pace(tourney_detailed_data, logs=False)"
   ]
  },
  {
   "cell_type": "code",
   "execution_count": 26,
   "id": "8dcd5618",
   "metadata": {
    "execution": {
     "iopub.execute_input": "2025-07-05T15:09:09.886268Z",
     "iopub.status.busy": "2025-07-05T15:09:09.885796Z",
     "iopub.status.idle": "2025-07-05T15:09:09.915962Z",
     "shell.execute_reply": "2025-07-05T15:09:09.914772Z"
    },
    "papermill": {
     "duration": 0.050956,
     "end_time": "2025-07-05T15:09:09.918123",
     "exception": false,
     "start_time": "2025-07-05T15:09:09.867167",
     "status": "completed"
    },
    "tags": []
   },
   "outputs": [],
   "source": [
    "tourney_detailed_data = pd.merge(tourney_detailed_data, T1_OE_preds, how='left',\n",
    "                                 on = ['Season', 'T1_TeamID', 'T2_TeamID'])\n",
    "tourney_detailed_data = pd.merge(tourney_detailed_data, T2_OE_preds, how='left',\n",
    "                                 on = ['Season', 'T1_TeamID', 'T2_TeamID'])\n",
    "tourney_detailed_data = pd.merge(tourney_detailed_data, Pace_preds, how='left',\n",
    "                                 on = ['Season', 'T1_TeamID', 'T2_TeamID'])"
   ]
  },
  {
   "cell_type": "code",
   "execution_count": 27,
   "id": "a3500457",
   "metadata": {
    "execution": {
     "iopub.execute_input": "2025-07-05T15:09:09.954860Z",
     "iopub.status.busy": "2025-07-05T15:09:09.954429Z",
     "iopub.status.idle": "2025-07-05T15:09:09.960638Z",
     "shell.execute_reply": "2025-07-05T15:09:09.959439Z"
    },
    "papermill": {
     "duration": 0.026897,
     "end_time": "2025-07-05T15:09:09.962509",
     "exception": false,
     "start_time": "2025-07-05T15:09:09.935612",
     "status": "completed"
    },
    "tags": []
   },
   "outputs": [],
   "source": [
    "tourney_detailed_data['OE_Pred_Diff'] = tourney_detailed_data['T1_OE_Pred'] - tourney_detailed_data['T2_OE_Pred']"
   ]
  },
  {
   "cell_type": "markdown",
   "id": "4d49f21e",
   "metadata": {
    "papermill": {
     "duration": 0.017191,
     "end_time": "2025-07-05T15:09:09.997594",
     "exception": false,
     "start_time": "2025-07-05T15:09:09.980403",
     "status": "completed"
    },
    "tags": []
   },
   "source": [
    "# Building models"
   ]
  },
  {
   "cell_type": "markdown",
   "id": "0f734736",
   "metadata": {
    "papermill": {
     "duration": 0.016717,
     "end_time": "2025-07-05T15:09:10.031536",
     "exception": false,
     "start_time": "2025-07-05T15:09:10.014819",
     "status": "completed"
    },
    "tags": []
   },
   "source": [
    "## Metric"
   ]
  },
  {
   "cell_type": "code",
   "execution_count": 28,
   "id": "9b7593a7",
   "metadata": {
    "execution": {
     "iopub.execute_input": "2025-07-05T15:09:10.067115Z",
     "iopub.status.busy": "2025-07-05T15:09:10.066675Z",
     "iopub.status.idle": "2025-07-05T15:09:10.072085Z",
     "shell.execute_reply": "2025-07-05T15:09:10.070942Z"
    },
    "papermill": {
     "duration": 0.025188,
     "end_time": "2025-07-05T15:09:10.073782",
     "exception": false,
     "start_time": "2025-07-05T15:09:10.048594",
     "status": "completed"
    },
    "tags": []
   },
   "outputs": [],
   "source": [
    "def brier_score(y_true, y_pred):\n",
    "    y_true = np.array(y_true)\n",
    "    y_pred = np.array(y_pred)\n",
    "    \n",
    "    return np.mean((y_pred - y_true) ** 2)"
   ]
  },
  {
   "cell_type": "markdown",
   "id": "8e8b8487",
   "metadata": {
    "papermill": {
     "duration": 0.017154,
     "end_time": "2025-07-05T15:09:10.109470",
     "exception": false,
     "start_time": "2025-07-05T15:09:10.092316",
     "status": "completed"
    },
    "tags": []
   },
   "source": [
    "## Train data"
   ]
  },
  {
   "cell_type": "code",
   "execution_count": 29,
   "id": "66555fc6",
   "metadata": {
    "execution": {
     "iopub.execute_input": "2025-07-05T15:09:10.145202Z",
     "iopub.status.busy": "2025-07-05T15:09:10.144674Z",
     "iopub.status.idle": "2025-07-05T15:09:10.156056Z",
     "shell.execute_reply": "2025-07-05T15:09:10.154672Z"
    },
    "papermill": {
     "duration": 0.031644,
     "end_time": "2025-07-05T15:09:10.158047",
     "exception": false,
     "start_time": "2025-07-05T15:09:10.126403",
     "status": "completed"
    },
    "tags": []
   },
   "outputs": [],
   "source": [
    "def get_target_and_features(tourney_data):\n",
    "    tourney_data['target'] = tourney_data['T1_Score'] - tourney_data['T2_Score']\n",
    "    tourney_data['target_binary'] = (tourney_data['target'] > 0).astype('int')\n",
    "    non_features = ['Season', 'DayNum', 'T1_TeamID', 'T1_Score', 'T2_TeamID', 'T2_Score',\n",
    "                    'T1_Playin_seed', 'T2_Playin_seed', 'target', 'target_binary', 'PointDiff',\n",
    "                    'T1_Poss', 'T2_Poss', 'T1_OE', 'T2_OE', 'T1_DE', 'T2_DE', 'Pace']\n",
    "    features = [col for col in list(tourney_data.columns) if col not in non_features]\n",
    "\n",
    "    return tourney_data, features\n",
    "\n",
    "tourney_detailed_data, features_detailed = get_target_and_features(tourney_detailed_data)\n",
    "tourney_compact_data, features_compact = get_target_and_features(tourney_compact_data)"
   ]
  },
  {
   "cell_type": "markdown",
   "id": "40c16934",
   "metadata": {
    "papermill": {
     "duration": 0.017324,
     "end_time": "2025-07-05T15:09:10.192920",
     "exception": false,
     "start_time": "2025-07-05T15:09:10.175596",
     "status": "completed"
    },
    "tags": []
   },
   "source": [
    "## Test (sub) data"
   ]
  },
  {
   "cell_type": "code",
   "execution_count": 30,
   "id": "2ccdd769",
   "metadata": {
    "execution": {
     "iopub.execute_input": "2025-07-05T15:09:10.229578Z",
     "iopub.status.busy": "2025-07-05T15:09:10.229161Z",
     "iopub.status.idle": "2025-07-05T15:09:12.825686Z",
     "shell.execute_reply": "2025-07-05T15:09:12.824574Z"
    },
    "papermill": {
     "duration": 2.61751,
     "end_time": "2025-07-05T15:09:12.827791",
     "exception": false,
     "start_time": "2025-07-05T15:09:10.210281",
     "status": "completed"
    },
    "tags": []
   },
   "outputs": [],
   "source": [
    "sub = pd.read_csv('/kaggle/input/march-machine-learning-mania-2025/SampleSubmissionStage2.csv')\n",
    "sub[\"Season\"] = 2025\n",
    "sub[\"T1_TeamID\"] = sub[\"ID\"].apply(lambda x: x[5:9]).astype(int)\n",
    "sub[\"T2_TeamID\"] = sub[\"ID\"].apply(lambda x: x[10:14]).astype(int)\n",
    "sub = merge_team_ratings(sub, point_diff_rating, oe_rating, de_rating, pace_rating)\n",
    "sub = add_boxcore_feats(regular_detailed_data, sub, data_type='detailed', sub_data=True)\n",
    "sub = add_win_loss_feats(regular_detailed_data, sub)\n",
    "sub = add_massey_ordinals_feats(MMasseyOrdinals, sub) \n",
    "sub = add_seeds_feats(sub, seeds)\n",
    "sub = add_last_14_days_feats(regular_detailed_data, sub)\n",
    "sub = add_diff_feats(sub, data_type='detailed')\n",
    "T1_OE_sub_preds = train_and_predict_oe(tourney_detailed_data, 'T1', for_sub_data=True, sub_data=sub, logs=False)\n",
    "T2_OE_sub_preds = train_and_predict_oe(tourney_detailed_data, 'T2', for_sub_data=True, sub_data=sub, logs=False)\n",
    "Pace_sub_preds = train_and_predict_pace(tourney_detailed_data, for_sub_data=True, sub_data=sub, logs=False)\n",
    "sub = pd.merge(sub, T1_OE_sub_preds, how='left', on = ['Season', 'T1_TeamID', 'T2_TeamID'])\n",
    "sub = pd.merge(sub, T2_OE_sub_preds, how='left', on = ['Season', 'T1_TeamID', 'T2_TeamID'])\n",
    "sub = pd.merge(sub, Pace_sub_preds, how='left', on = ['Season', 'T1_TeamID', 'T2_TeamID'])\n",
    "sub['OE_Pred_Diff'] = sub['T1_OE_Pred'] - sub['T2_OE_Pred']"
   ]
  },
  {
   "cell_type": "markdown",
   "id": "0471f236",
   "metadata": {
    "papermill": {
     "duration": 0.016853,
     "end_time": "2025-07-05T15:09:12.862241",
     "exception": false,
     "start_time": "2025-07-05T15:09:12.845388",
     "status": "completed"
    },
    "tags": []
   },
   "source": [
    "## Men Model - season XGBR"
   ]
  },
  {
   "cell_type": "code",
   "execution_count": 31,
   "id": "18a8e321",
   "metadata": {
    "execution": {
     "iopub.execute_input": "2025-07-05T15:09:12.898691Z",
     "iopub.status.busy": "2025-07-05T15:09:12.898363Z",
     "iopub.status.idle": "2025-07-05T15:09:12.903567Z",
     "shell.execute_reply": "2025-07-05T15:09:12.902317Z"
    },
    "papermill": {
     "duration": 0.025671,
     "end_time": "2025-07-05T15:09:12.905248",
     "exception": false,
     "start_time": "2025-07-05T15:09:12.879577",
     "status": "completed"
    },
    "tags": []
   },
   "outputs": [],
   "source": [
    "params = {\n",
    "    \"n_estimators\": 1000,\n",
    "    \"objective\": 'reg:squarederror',\n",
    "    \"eval_metric\": \"mae\",\n",
    "    \"learning_rate\": 0.02,\n",
    "    \"subsample\": 0.35,\n",
    "    \"colsample_bytree\": 0.7,\n",
    "    \"num_parallel_tree\": 1,\n",
    "    \"min_child_weight\": 40,\n",
    "    \"max_depth\": 3,\n",
    "    \"verbosity\": 0,\n",
    "    \"early_stopping_rounds\": 25,\n",
    "}\n",
    "\n",
    "xgb_model = xgb.XGBRegressor(**params)"
   ]
  },
  {
   "cell_type": "code",
   "execution_count": 32,
   "id": "22e5ebf4",
   "metadata": {
    "execution": {
     "iopub.execute_input": "2025-07-05T15:09:12.941504Z",
     "iopub.status.busy": "2025-07-05T15:09:12.941183Z",
     "iopub.status.idle": "2025-07-05T15:09:12.947161Z",
     "shell.execute_reply": "2025-07-05T15:09:12.946152Z"
    },
    "papermill": {
     "duration": 0.02635,
     "end_time": "2025-07-05T15:09:12.949165",
     "exception": false,
     "start_time": "2025-07-05T15:09:12.922815",
     "status": "completed"
    },
    "tags": []
   },
   "outputs": [],
   "source": [
    "def get_xgb_cv_best_iterations(X, y, params, repeat_cv=3, n_splits=5, eval_metric='mae'):\n",
    "    dtrain = xgb.DMatrix(X, y)  \n",
    "    xgb_cv = [] \n",
    "    for i in range(repeat_cv): \n",
    "        xgb_cv.append(\n",
    "            xgb.cv(params = params, dtrain = dtrain, num_boost_round = params['n_estimators'],\n",
    "                   folds = KFold(n_splits = n_splits, shuffle = True, random_state = i),\n",
    "                   early_stopping_rounds = 25, verbose_eval = 0))\n",
    "    \n",
    "    best_iterations = [np.argmin(x[f'test-{eval_metric}-mean'].values) for x in xgb_cv]\n",
    "    \n",
    "    return best_iterations"
   ]
  },
  {
   "cell_type": "code",
   "execution_count": 33,
   "id": "8d54af1c",
   "metadata": {
    "execution": {
     "iopub.execute_input": "2025-07-05T15:09:12.987304Z",
     "iopub.status.busy": "2025-07-05T15:09:12.986965Z",
     "iopub.status.idle": "2025-07-05T15:09:12.996641Z",
     "shell.execute_reply": "2025-07-05T15:09:12.995610Z"
    },
    "papermill": {
     "duration": 0.03084,
     "end_time": "2025-07-05T15:09:12.998498",
     "exception": false,
     "start_time": "2025-07-05T15:09:12.967658",
     "status": "completed"
    },
    "tags": []
   },
   "outputs": [],
   "source": [
    "def season_cv(model, train, target, test, features, start_val_year):\n",
    "    seasons = train['Season'].unique()\n",
    "    val_seasons = [i for i in seasons if i >= start_val_year]\n",
    "    oof_pred, oof_true = [], []\n",
    "    season_brier_scores, season_log_losses = [], []\n",
    "    \n",
    "    for season in seasons[3:]:\n",
    "        train_fold = train[train['Season'] < season].copy()\n",
    "        val_fold = train[train['Season'] == season].copy()\n",
    "        X_train, X_val = train_fold[features].copy(), val_fold[features].copy()\n",
    "        y_train, y_val = target[train_fold.index].copy(), target[val_fold.index].copy()\n",
    "        y_train_binary = np.where(y_train > 0, 1, 0)\n",
    "        y_val_binary = np.where(y_val > 0, 1, 0)\n",
    "\n",
    "        cv_best_iterations = get_xgb_cv_best_iterations(X_train, y_train, model.get_params())\n",
    "        model.set_params(n_estimators=int(np.mean(cv_best_iterations) * 1.05), early_stopping_rounds=None)\n",
    "        model.fit(X_train, y_train, verbose=0)\n",
    "        model.set_params(n_estimators=1000, early_stopping_rounds=25)\n",
    "    \n",
    "        y_val_pred = model.predict(X_val)\n",
    "\n",
    "        if season not in val_seasons:\n",
    "            oof_pred.extend(y_val_pred)\n",
    "            oof_true.extend(y_val_binary)\n",
    "\n",
    "        if season in val_seasons:\n",
    "            X_log = np.array(oof_pred).reshape(-1, 1)\n",
    "            y_log = np.array(oof_true)\n",
    "            log_model = LogisticRegression(C=10)\n",
    "            log_model.fit(X_log, y_log)\n",
    "            glm_y_val_pred = log_model.predict_proba(y_val_pred.reshape(-1, 1))[:, 1]\n",
    "            \n",
    "            season_brier_score = brier_score(y_val_binary, glm_y_val_pred)\n",
    "            season_brier_scores.append(season_brier_score)\n",
    "            season_log_loss = log_loss(y_val_binary, glm_y_val_pred)\n",
    "            season_log_losses.append(season_log_loss)\n",
    "            print(f'Season {season} brier score = {season_brier_score:.5f}. log loss = {season_log_loss:.5f}')\n",
    "            oof_pred.extend(y_val_pred)\n",
    "            oof_true.extend(y_val_binary)\n",
    "\n",
    "    print(f'Seasons mean brier score = {np.mean(season_brier_scores):.5f}. ', end='')\n",
    "    print(f'log loss = {np.mean(season_log_losses):.5f}')\n",
    "\n",
    "    return oof_pred, oof_true"
   ]
  },
  {
   "cell_type": "code",
   "execution_count": 34,
   "id": "f6bb6aed",
   "metadata": {
    "execution": {
     "iopub.execute_input": "2025-07-05T15:09:13.036078Z",
     "iopub.status.busy": "2025-07-05T15:09:13.035652Z",
     "iopub.status.idle": "2025-07-05T15:09:13.093929Z",
     "shell.execute_reply": "2025-07-05T15:09:13.092727Z"
    },
    "papermill": {
     "duration": 0.079734,
     "end_time": "2025-07-05T15:09:13.096288",
     "exception": false,
     "start_time": "2025-07-05T15:09:13.016554",
     "status": "completed"
    },
    "tags": []
   },
   "outputs": [],
   "source": [
    "train_data = tourney_detailed_data.query('Season > 2003').reset_index(drop=True)\n",
    "train_data_m = train_data.query('T1_TeamID < 3000').reset_index(drop=True)\n",
    "features_m = ['ordinal_rank_mean_Diff', 'OE_Rating_Diff', 'ordinal_rank_max_Diff', 'NumGames_Diff', 'reg_opponent_PF_Diff', 'T1_seed', 'T2_seed', 'T1_OE_Rating', 'T2_OE_Rating', 'T1_ordinal_rank_mean', 'T2_ordinal_rank_mean', 'WinRatio_Diff', 'T1_reg_Score', 'T2_reg_Score', 'T1_reg_FGA3', 'T2_reg_FGA3', 'T1_reg_opponent_DR', 'T2_reg_opponent_DR']\n",
    "params = {\n",
    "    \"model\": xgb_model,\n",
    "    \"train\": train_data_m,\n",
    "    \"target\": train_data_m['target'],\n",
    "    \"test\": sub,\n",
    "    \"features\": features_m,\n",
    "    \"start_val_year\": 2015,\n",
    "}"
   ]
  },
  {
   "cell_type": "code",
   "execution_count": 35,
   "id": "09c1949a",
   "metadata": {
    "execution": {
     "iopub.execute_input": "2025-07-05T15:09:13.134602Z",
     "iopub.status.busy": "2025-07-05T15:09:13.134280Z",
     "iopub.status.idle": "2025-07-05T15:10:24.302939Z",
     "shell.execute_reply": "2025-07-05T15:10:24.301418Z"
    },
    "papermill": {
     "duration": 71.189976,
     "end_time": "2025-07-05T15:10:24.305025",
     "exception": false,
     "start_time": "2025-07-05T15:09:13.115049",
     "status": "completed"
    },
    "tags": []
   },
   "outputs": [
    {
     "name": "stdout",
     "output_type": "stream",
     "text": [
      "Season 2015 brier score = 0.16107. log loss = 0.49085\n",
      "Season 2016 brier score = 0.18425. log loss = 0.55546\n",
      "Season 2017 brier score = 0.17414. log loss = 0.51406\n",
      "Season 2018 brier score = 0.18042. log loss = 0.54675\n",
      "Season 2019 brier score = 0.16079. log loss = 0.47961\n",
      "Season 2021 brier score = 0.21343. log loss = 0.61224\n",
      "Season 2022 brier score = 0.20640. log loss = 0.61123\n",
      "Season 2023 brier score = 0.21224. log loss = 0.62229\n",
      "Season 2024 brier score = 0.18822. log loss = 0.54744\n",
      "Seasons mean brier score = 0.18677. log loss = 0.55333\n",
      "CPU times: user 4min 34s, sys: 3.42 s, total: 4min 37s\n",
      "Wall time: 1min 11s\n"
     ]
    }
   ],
   "source": [
    "%%time\n",
    "oof_pred, oof_true = season_cv(**params)"
   ]
  },
  {
   "cell_type": "code",
   "execution_count": 36,
   "id": "1cfdf57b",
   "metadata": {
    "execution": {
     "iopub.execute_input": "2025-07-05T15:10:24.344981Z",
     "iopub.status.busy": "2025-07-05T15:10:24.344558Z",
     "iopub.status.idle": "2025-07-05T15:10:44.301021Z",
     "shell.execute_reply": "2025-07-05T15:10:44.299991Z"
    },
    "papermill": {
     "duration": 19.978946,
     "end_time": "2025-07-05T15:10:44.303356",
     "exception": false,
     "start_time": "2025-07-05T15:10:24.324410",
     "status": "completed"
    },
    "tags": []
   },
   "outputs": [],
   "source": [
    "X_train_m = train_data_m[features_m].copy()\n",
    "y_train_m = train_data_m['target']\n",
    "sub_m = sub.query('T1_TeamID < 3000')\n",
    "X_test_m = sub_m[features_m].copy()\n",
    "\n",
    "xgb_model.set_params(n_estimators=1000, early_stopping_rounds=25)\n",
    "cv_best_iterations = get_xgb_cv_best_iterations(X_train_m, y_train_m, xgb_model.get_params(), repeat_cv=10)\n",
    "n_estimators = int(np.mean(cv_best_iterations) * 1.05)\n",
    "xgb_model.set_params(n_estimators=n_estimators, early_stopping_rounds=None)\n",
    "xgb_params = xgb_model.get_params()\n",
    "\n",
    "xgb_model.fit(X_train_m, y_train_m)\n",
    "y_test_m_pred = xgb_model.predict(X_test_m)"
   ]
  },
  {
   "cell_type": "code",
   "execution_count": 37,
   "id": "bc02949d",
   "metadata": {
    "execution": {
     "iopub.execute_input": "2025-07-05T15:10:44.341519Z",
     "iopub.status.busy": "2025-07-05T15:10:44.341095Z",
     "iopub.status.idle": "2025-07-05T15:10:44.355518Z",
     "shell.execute_reply": "2025-07-05T15:10:44.354363Z"
    },
    "papermill": {
     "duration": 0.03496,
     "end_time": "2025-07-05T15:10:44.357487",
     "exception": false,
     "start_time": "2025-07-05T15:10:44.322527",
     "status": "completed"
    },
    "tags": []
   },
   "outputs": [],
   "source": [
    "X_log = np.array(oof_pred).reshape(-1, 1)\n",
    "y_log = np.array(oof_true)\n",
    "log_model = LogisticRegression(C=10)\n",
    "log_model.fit(X_log, y_log)\n",
    "pred_m = log_model.predict_proba(y_test_m_pred.reshape(-1, 1))[:, 1]\n",
    "sub_m.loc[:, 'Pred'] = pred_m"
   ]
  },
  {
   "cell_type": "markdown",
   "id": "150d35cd",
   "metadata": {
    "papermill": {
     "duration": 0.017068,
     "end_time": "2025-07-05T15:10:44.392116",
     "exception": false,
     "start_time": "2025-07-05T15:10:44.375048",
     "status": "completed"
    },
    "tags": []
   },
   "source": [
    "## Women Model - season log regression"
   ]
  },
  {
   "cell_type": "code",
   "execution_count": 38,
   "id": "08641a07",
   "metadata": {
    "execution": {
     "iopub.execute_input": "2025-07-05T15:10:44.429515Z",
     "iopub.status.busy": "2025-07-05T15:10:44.429100Z",
     "iopub.status.idle": "2025-07-05T15:10:44.438103Z",
     "shell.execute_reply": "2025-07-05T15:10:44.436846Z"
    },
    "papermill": {
     "duration": 0.029782,
     "end_time": "2025-07-05T15:10:44.439790",
     "exception": false,
     "start_time": "2025-07-05T15:10:44.410008",
     "status": "completed"
    },
    "tags": []
   },
   "outputs": [],
   "source": [
    "def log_season(model, train, target, features, start_val_year=2015, end_val_year=2024):\n",
    "    seasons = train['Season'].unique()\n",
    "    val_seasons = [year for year in seasons if year >= start_val_year and year <= end_val_year]\n",
    "    cvs_brier_w, cvs_log_w = [], []\n",
    "    \n",
    "    for season in val_seasons:\n",
    "        past_seasons = sorted(seasons[seasons < season])\n",
    "        train_idx, val_idx = train['Season'].isin(past_seasons), train['Season'] == season\n",
    "        X_train = train[features][train_idx].reset_index(drop=True).copy()\n",
    "        X_val = train[features][val_idx].reset_index(drop=True).copy()\n",
    "        y_train, y_val = target[train_idx], np.array(target[val_idx])  \n",
    "\n",
    "        scaler = MinMaxScaler()\n",
    "        X_train = scaler.fit_transform(X_train)\n",
    "        X_val = scaler.transform(X_val)\n",
    "\n",
    "        model.fit(X_train, y_train)\n",
    "        y_val_pred = model.predict_proba(X_val)[:, 1]\n",
    "\n",
    "        season_log_loss_w = log_loss(y_val, y_val_pred)\n",
    "        season_brier_score_w = brier_score(y_val, y_val_pred)\n",
    "        cvs_brier_w.append(season_brier_score_w)\n",
    "        cvs_log_w.append(season_log_loss_w)\n",
    "\n",
    "        print(f'Season {season}:   ', end='')\n",
    "        print(f'log loss w = {season_log_loss_w:.5f}   ', end='')\n",
    "        print(f'brier score w = {season_brier_score_w:.5f}')\n",
    "\n",
    "    print(f'\\nMean seasons brier score w: {np.mean(cvs_brier_w):.5f}')\n",
    "    print(f'Mean seasons log loss w: {np.mean(cvs_log_w):.5f}\\n')"
   ]
  },
  {
   "cell_type": "code",
   "execution_count": 39,
   "id": "606a118b",
   "metadata": {
    "execution": {
     "iopub.execute_input": "2025-07-05T15:10:44.476687Z",
     "iopub.status.busy": "2025-07-05T15:10:44.476292Z",
     "iopub.status.idle": "2025-07-05T15:10:44.689482Z",
     "shell.execute_reply": "2025-07-05T15:10:44.688104Z"
    },
    "papermill": {
     "duration": 0.233637,
     "end_time": "2025-07-05T15:10:44.691217",
     "exception": false,
     "start_time": "2025-07-05T15:10:44.457580",
     "status": "completed"
    },
    "tags": []
   },
   "outputs": [
    {
     "name": "stdout",
     "output_type": "stream",
     "text": [
      "Season 2015:   log loss w = 0.35100   brier score w = 0.11064\n",
      "Season 2016:   log loss w = 0.44245   brier score w = 0.15333\n",
      "Season 2017:   log loss w = 0.39573   brier score w = 0.12697\n",
      "Season 2018:   log loss w = 0.47990   brier score w = 0.16261\n",
      "Season 2019:   log loss w = 0.37283   brier score w = 0.12051\n",
      "Season 2021:   log loss w = 0.43510   brier score w = 0.14089\n",
      "Season 2022:   log loss w = 0.47757   brier score w = 0.15857\n",
      "Season 2023:   log loss w = 0.53094   brier score w = 0.17884\n",
      "Season 2024:   log loss w = 0.36608   brier score w = 0.11684\n",
      "\n",
      "Mean seasons brier score w: 0.14102\n",
      "Mean seasons log loss w: 0.42795\n",
      "\n"
     ]
    }
   ],
   "source": [
    "train_data = tourney_detailed_data.query('Season > 2003').reset_index(drop=True)\n",
    "train_data_w = train_data.query('T1_TeamID >= 3000').reset_index(drop=True)\n",
    "\n",
    "log_reg_model = LogisticRegression(C=10, max_iter=10000)\n",
    "features_w = ['OE_Rating_Diff', 'WinRatio_Diff', 'seed_Diff', 'reg_Blk_Diff', 'reg_opponent_Blk_Diff']\n",
    "log_season(log_reg_model, train_data_w, train_data_w['target_binary'], features_w,\n",
    "           start_val_year=2015, end_val_year=2024)"
   ]
  },
  {
   "cell_type": "code",
   "execution_count": 40,
   "id": "a12a1c10",
   "metadata": {
    "execution": {
     "iopub.execute_input": "2025-07-05T15:10:44.728736Z",
     "iopub.status.busy": "2025-07-05T15:10:44.728213Z",
     "iopub.status.idle": "2025-07-05T15:10:44.822474Z",
     "shell.execute_reply": "2025-07-05T15:10:44.821316Z"
    },
    "papermill": {
     "duration": 0.115502,
     "end_time": "2025-07-05T15:10:44.824622",
     "exception": false,
     "start_time": "2025-07-05T15:10:44.709120",
     "status": "completed"
    },
    "tags": []
   },
   "outputs": [],
   "source": [
    "X_train_w = train_data_w[features_w].copy()\n",
    "y_train_w = train_data_w['target_binary']\n",
    "sub_w = sub.query('T1_TeamID >= 3000')\n",
    "X_test_w = sub_w[features_w].fillna(0).copy()\n",
    "\n",
    "scaler = MinMaxScaler()\n",
    "X_train_w = scaler.fit_transform(X_train_w)\n",
    "X_test_w = scaler.transform(X_test_w)\n",
    "\n",
    "log_reg_model = LogisticRegression(C=10, max_iter=10000)\n",
    "log_reg_model.fit(X_train_w, y_train_w)\n",
    "pred_w = log_reg_model.predict_proba(X_test_w)[:, 1]\n",
    "sub_w.loc[:, 'Pred'] = pred_w"
   ]
  },
  {
   "cell_type": "markdown",
   "id": "605803d3",
   "metadata": {
    "papermill": {
     "duration": 0.018713,
     "end_time": "2025-07-05T15:10:44.862945",
     "exception": false,
     "start_time": "2025-07-05T15:10:44.844232",
     "status": "completed"
    },
    "tags": []
   },
   "source": [
    "# Submission"
   ]
  },
  {
   "cell_type": "code",
   "execution_count": 41,
   "id": "2a0d19be",
   "metadata": {
    "execution": {
     "iopub.execute_input": "2025-07-05T15:10:44.902793Z",
     "iopub.status.busy": "2025-07-05T15:10:44.902394Z",
     "iopub.status.idle": "2025-07-05T15:10:44.957973Z",
     "shell.execute_reply": "2025-07-05T15:10:44.956479Z"
    },
    "papermill": {
     "duration": 0.078537,
     "end_time": "2025-07-05T15:10:44.960466",
     "exception": false,
     "start_time": "2025-07-05T15:10:44.881929",
     "status": "completed"
    },
    "tags": []
   },
   "outputs": [],
   "source": [
    "submission = pd.concat([sub_m, sub_w])"
   ]
  },
  {
   "cell_type": "code",
   "execution_count": 42,
   "id": "9c33b0f7",
   "metadata": {
    "execution": {
     "iopub.execute_input": "2025-07-05T15:10:45.000967Z",
     "iopub.status.busy": "2025-07-05T15:10:45.000500Z",
     "iopub.status.idle": "2025-07-05T15:10:45.307754Z",
     "shell.execute_reply": "2025-07-05T15:10:45.306610Z"
    },
    "papermill": {
     "duration": 0.329957,
     "end_time": "2025-07-05T15:10:45.309985",
     "exception": false,
     "start_time": "2025-07-05T15:10:44.980028",
     "status": "completed"
    },
    "tags": []
   },
   "outputs": [],
   "source": [
    "submission[['ID', 'Pred']].to_csv(\"ncaa-2025-submission-1.csv\", index = None)"
   ]
  },
  {
   "cell_type": "markdown",
   "id": "5f15582d",
   "metadata": {
    "papermill": {
     "duration": 0.018461,
     "end_time": "2025-07-05T15:10:45.352604",
     "exception": false,
     "start_time": "2025-07-05T15:10:45.334143",
     "status": "completed"
    },
    "tags": []
   },
   "source": [
    "# 0/1 flip"
   ]
  },
  {
   "cell_type": "code",
   "execution_count": 43,
   "id": "a514e6ab",
   "metadata": {
    "execution": {
     "iopub.execute_input": "2025-07-05T15:10:45.391273Z",
     "iopub.status.busy": "2025-07-05T15:10:45.390881Z",
     "iopub.status.idle": "2025-07-05T15:10:45.410354Z",
     "shell.execute_reply": "2025-07-05T15:10:45.409230Z"
    },
    "papermill": {
     "duration": 0.04135,
     "end_time": "2025-07-05T15:10:45.412526",
     "exception": false,
     "start_time": "2025-07-05T15:10:45.371176",
     "status": "completed"
    },
    "tags": []
   },
   "outputs": [
    {
     "data": {
      "text/plain": [
       "(    TeamID TeamName  FirstD1Season  LastD1Season\n",
       " 23    1124   Baylor           1985          2025,\n",
       "      TeamID        TeamName  FirstD1Season  LastD1Season\n",
       " 179    1280  Mississippi St           1985          2025)"
      ]
     },
     "execution_count": 43,
     "metadata": {},
     "output_type": "execute_result"
    }
   ],
   "source": [
    "MTeams.query('TeamName == \"Baylor\"'), MTeams.query('TeamName == \"Mississippi St\"')"
   ]
  },
  {
   "cell_type": "code",
   "execution_count": 44,
   "id": "b6d20529",
   "metadata": {
    "execution": {
     "iopub.execute_input": "2025-07-05T15:10:45.453091Z",
     "iopub.status.busy": "2025-07-05T15:10:45.452708Z",
     "iopub.status.idle": "2025-07-05T15:10:45.569808Z",
     "shell.execute_reply": "2025-07-05T15:10:45.568107Z"
    },
    "papermill": {
     "duration": 0.139854,
     "end_time": "2025-07-05T15:10:45.572406",
     "exception": false,
     "start_time": "2025-07-05T15:10:45.432552",
     "status": "completed"
    },
    "tags": []
   },
   "outputs": [
    {
     "data": {
      "text/html": [
       "<div>\n",
       "<style scoped>\n",
       "    .dataframe tbody tr th:only-of-type {\n",
       "        vertical-align: middle;\n",
       "    }\n",
       "\n",
       "    .dataframe tbody tr th {\n",
       "        vertical-align: top;\n",
       "    }\n",
       "\n",
       "    .dataframe thead th {\n",
       "        text-align: right;\n",
       "    }\n",
       "</style>\n",
       "<table border=\"1\" class=\"dataframe\">\n",
       "  <thead>\n",
       "    <tr style=\"text-align: right;\">\n",
       "      <th></th>\n",
       "      <th>ID</th>\n",
       "      <th>Pred</th>\n",
       "      <th>Season</th>\n",
       "      <th>T1_TeamID</th>\n",
       "      <th>T2_TeamID</th>\n",
       "      <th>T1_PointDiff_Rating</th>\n",
       "      <th>T1_OE_Rating</th>\n",
       "      <th>T1_DE_Rating</th>\n",
       "      <th>T1_Pace_Rating</th>\n",
       "      <th>T2_PointDiff_Rating</th>\n",
       "      <th>T2_OE_Rating</th>\n",
       "      <th>T2_DE_Rating</th>\n",
       "      <th>T2_Pace_Rating</th>\n",
       "      <th>T1_reg_Score</th>\n",
       "      <th>T1_reg_opponent_Score</th>\n",
       "      <th>T1_reg_PointDiff</th>\n",
       "      <th>T1_reg_FGM</th>\n",
       "      <th>T1_reg_FGA</th>\n",
       "      <th>T1_reg_FGM3</th>\n",
       "      <th>T1_reg_FGA3</th>\n",
       "      <th>T1_reg_FTM</th>\n",
       "      <th>T1_reg_FTA</th>\n",
       "      <th>T1_reg_OR</th>\n",
       "      <th>T1_reg_DR</th>\n",
       "      <th>T1_reg_Ast</th>\n",
       "      <th>T1_reg_TO</th>\n",
       "      <th>T1_reg_Stl</th>\n",
       "      <th>T1_reg_Blk</th>\n",
       "      <th>T1_reg_PF</th>\n",
       "      <th>T1_reg_opponent_FGM</th>\n",
       "      <th>T1_reg_opponent_FGA</th>\n",
       "      <th>T1_reg_opponent_FGM3</th>\n",
       "      <th>T1_reg_opponent_FGA3</th>\n",
       "      <th>T1_reg_opponent_FTM</th>\n",
       "      <th>T1_reg_opponent_FTA</th>\n",
       "      <th>T1_reg_opponent_OR</th>\n",
       "      <th>T1_reg_opponent_DR</th>\n",
       "      <th>T1_reg_opponent_Ast</th>\n",
       "      <th>T1_reg_opponent_TO</th>\n",
       "      <th>T1_reg_opponent_Stl</th>\n",
       "      <th>T1_reg_opponent_Blk</th>\n",
       "      <th>T1_reg_opponent_PF</th>\n",
       "      <th>T2_reg_Score</th>\n",
       "      <th>T2_reg_opponent_Score</th>\n",
       "      <th>T2_reg_PointDiff</th>\n",
       "      <th>T2_reg_FGM</th>\n",
       "      <th>T2_reg_FGA</th>\n",
       "      <th>T2_reg_FGM3</th>\n",
       "      <th>T2_reg_FGA3</th>\n",
       "      <th>T2_reg_FTM</th>\n",
       "      <th>T2_reg_FTA</th>\n",
       "      <th>T2_reg_OR</th>\n",
       "      <th>T2_reg_DR</th>\n",
       "      <th>T2_reg_Ast</th>\n",
       "      <th>T2_reg_TO</th>\n",
       "      <th>T2_reg_Stl</th>\n",
       "      <th>T2_reg_Blk</th>\n",
       "      <th>T2_reg_PF</th>\n",
       "      <th>T2_reg_opponent_FGM</th>\n",
       "      <th>T2_reg_opponent_FGA</th>\n",
       "      <th>T2_reg_opponent_FGM3</th>\n",
       "      <th>T2_reg_opponent_FGA3</th>\n",
       "      <th>T2_reg_opponent_FTM</th>\n",
       "      <th>T2_reg_opponent_FTA</th>\n",
       "      <th>T2_reg_opponent_OR</th>\n",
       "      <th>T2_reg_opponent_DR</th>\n",
       "      <th>T2_reg_opponent_Ast</th>\n",
       "      <th>T2_reg_opponent_TO</th>\n",
       "      <th>T2_reg_opponent_Stl</th>\n",
       "      <th>T2_reg_opponent_Blk</th>\n",
       "      <th>T2_reg_opponent_PF</th>\n",
       "      <th>T1_NumGames</th>\n",
       "      <th>T1_NumWins</th>\n",
       "      <th>T1_NumLosses</th>\n",
       "      <th>T1_WinRatio</th>\n",
       "      <th>T2_NumGames</th>\n",
       "      <th>T2_NumWins</th>\n",
       "      <th>T2_NumLosses</th>\n",
       "      <th>T2_WinRatio</th>\n",
       "      <th>T1_ordinal_rank_mean</th>\n",
       "      <th>T1_ordinal_rank_max</th>\n",
       "      <th>T1_ordinal_rank_min</th>\n",
       "      <th>T2_ordinal_rank_mean</th>\n",
       "      <th>T2_ordinal_rank_max</th>\n",
       "      <th>T2_ordinal_rank_min</th>\n",
       "      <th>T1_seed</th>\n",
       "      <th>T1_Playin_seed</th>\n",
       "      <th>T2_seed</th>\n",
       "      <th>T2_Playin_seed</th>\n",
       "      <th>T1_win_ratio_14d</th>\n",
       "      <th>T2_win_ratio_14d</th>\n",
       "      <th>reg_Score_Diff</th>\n",
       "      <th>reg_FGM_Diff</th>\n",
       "      <th>reg_FGA_Diff</th>\n",
       "      <th>reg_FGM3_Diff</th>\n",
       "      <th>reg_FGA3_Diff</th>\n",
       "      <th>reg_FTM_Diff</th>\n",
       "      <th>reg_FTA_Diff</th>\n",
       "      <th>reg_OR_Diff</th>\n",
       "      <th>reg_DR_Diff</th>\n",
       "      <th>reg_Ast_Diff</th>\n",
       "      <th>reg_TO_Diff</th>\n",
       "      <th>reg_Stl_Diff</th>\n",
       "      <th>reg_Blk_Diff</th>\n",
       "      <th>reg_PF_Diff</th>\n",
       "      <th>reg_opponent_Score_Diff</th>\n",
       "      <th>reg_opponent_FGM_Diff</th>\n",
       "      <th>reg_opponent_FGA_Diff</th>\n",
       "      <th>reg_opponent_FGM3_Diff</th>\n",
       "      <th>reg_opponent_FGA3_Diff</th>\n",
       "      <th>reg_opponent_FTM_Diff</th>\n",
       "      <th>reg_opponent_FTA_Diff</th>\n",
       "      <th>reg_opponent_OR_Diff</th>\n",
       "      <th>reg_opponent_DR_Diff</th>\n",
       "      <th>reg_opponent_Ast_Diff</th>\n",
       "      <th>reg_opponent_TO_Diff</th>\n",
       "      <th>reg_opponent_Stl_Diff</th>\n",
       "      <th>reg_opponent_Blk_Diff</th>\n",
       "      <th>reg_opponent_PF_Diff</th>\n",
       "      <th>reg_PointDiff_Diff</th>\n",
       "      <th>win_ratio_14d_Diff</th>\n",
       "      <th>seed_Diff</th>\n",
       "      <th>ordinal_rank_mean_Diff</th>\n",
       "      <th>ordinal_rank_max_Diff</th>\n",
       "      <th>ordinal_rank_min_Diff</th>\n",
       "      <th>NumGames_Diff</th>\n",
       "      <th>NumWins_Diff</th>\n",
       "      <th>NumLosses_Diff</th>\n",
       "      <th>WinRatio_Diff</th>\n",
       "      <th>PointDiff_Rating_Diff</th>\n",
       "      <th>OE_Rating_Diff</th>\n",
       "      <th>DE_Rating_Diff</th>\n",
       "      <th>Pace_Rating_Diff</th>\n",
       "      <th>T1_OE_Pred</th>\n",
       "      <th>T2_OE_Pred</th>\n",
       "      <th>Pace_Pred</th>\n",
       "      <th>OE_Pred_Diff</th>\n",
       "    </tr>\n",
       "  </thead>\n",
       "  <tbody>\n",
       "    <tr>\n",
       "      <th>7220</th>\n",
       "      <td>2025_1124_1280</td>\n",
       "      <td>0.497118</td>\n",
       "      <td>2025</td>\n",
       "      <td>1124</td>\n",
       "      <td>1280</td>\n",
       "      <td>8.729153</td>\n",
       "      <td>1.043746</td>\n",
       "      <td>0.927321</td>\n",
       "      <td>68.06781</td>\n",
       "      <td>8.152968</td>\n",
       "      <td>1.04147</td>\n",
       "      <td>0.929597</td>\n",
       "      <td>70.584512</td>\n",
       "      <td>75.5</td>\n",
       "      <td>69.65625</td>\n",
       "      <td>5.84375</td>\n",
       "      <td>26.65625</td>\n",
       "      <td>59.8125</td>\n",
       "      <td>8.34375</td>\n",
       "      <td>24.0625</td>\n",
       "      <td>13.84375</td>\n",
       "      <td>18.5625</td>\n",
       "      <td>10.6875</td>\n",
       "      <td>21.40625</td>\n",
       "      <td>14.25</td>\n",
       "      <td>10.03125</td>\n",
       "      <td>7.40625</td>\n",
       "      <td>2.71875</td>\n",
       "      <td>16.46875</td>\n",
       "      <td>24.34375</td>\n",
       "      <td>55.40625</td>\n",
       "      <td>8.0</td>\n",
       "      <td>22.59375</td>\n",
       "      <td>12.96875</td>\n",
       "      <td>18.5625</td>\n",
       "      <td>9.0</td>\n",
       "      <td>21.1875</td>\n",
       "      <td>14.59375</td>\n",
       "      <td>12.03125</td>\n",
       "      <td>5.78125</td>\n",
       "      <td>3.9375</td>\n",
       "      <td>16.84375</td>\n",
       "      <td>79.757576</td>\n",
       "      <td>74.151515</td>\n",
       "      <td>5.606061</td>\n",
       "      <td>28.636364</td>\n",
       "      <td>63.484848</td>\n",
       "      <td>8.424242</td>\n",
       "      <td>26.848485</td>\n",
       "      <td>14.060606</td>\n",
       "      <td>20.090909</td>\n",
       "      <td>11.454545</td>\n",
       "      <td>24.0</td>\n",
       "      <td>15.272727</td>\n",
       "      <td>10.181818</td>\n",
       "      <td>9.212121</td>\n",
       "      <td>4.606061</td>\n",
       "      <td>17.363636</td>\n",
       "      <td>25.363636</td>\n",
       "      <td>57.757576</td>\n",
       "      <td>9.212121</td>\n",
       "      <td>25.515152</td>\n",
       "      <td>14.212121</td>\n",
       "      <td>20.454545</td>\n",
       "      <td>8.848485</td>\n",
       "      <td>24.0</td>\n",
       "      <td>13.484848</td>\n",
       "      <td>12.727273</td>\n",
       "      <td>6.121212</td>\n",
       "      <td>3.151515</td>\n",
       "      <td>17.333333</td>\n",
       "      <td>32</td>\n",
       "      <td>18.0</td>\n",
       "      <td>14.0</td>\n",
       "      <td>0.5625</td>\n",
       "      <td>33</td>\n",
       "      <td>21.0</td>\n",
       "      <td>12.0</td>\n",
       "      <td>0.636364</td>\n",
       "      <td>38.62963</td>\n",
       "      <td>78.0</td>\n",
       "      <td>22.0</td>\n",
       "      <td>32.351852</td>\n",
       "      <td>54.0</td>\n",
       "      <td>19.0</td>\n",
       "      <td>9.0</td>\n",
       "      <td>0.0</td>\n",
       "      <td>8.0</td>\n",
       "      <td>0.0</td>\n",
       "      <td>0.5</td>\n",
       "      <td>0.25</td>\n",
       "      <td>-4.257576</td>\n",
       "      <td>-1.980114</td>\n",
       "      <td>-3.672348</td>\n",
       "      <td>-0.080492</td>\n",
       "      <td>-2.785985</td>\n",
       "      <td>-0.216856</td>\n",
       "      <td>-1.528409</td>\n",
       "      <td>-0.767045</td>\n",
       "      <td>-2.59375</td>\n",
       "      <td>-1.022727</td>\n",
       "      <td>-0.150568</td>\n",
       "      <td>-1.805871</td>\n",
       "      <td>-1.887311</td>\n",
       "      <td>-0.894886</td>\n",
       "      <td>-4.495265</td>\n",
       "      <td>-1.019886</td>\n",
       "      <td>-2.351326</td>\n",
       "      <td>-1.212121</td>\n",
       "      <td>-2.921402</td>\n",
       "      <td>-1.243371</td>\n",
       "      <td>-1.892045</td>\n",
       "      <td>0.151515</td>\n",
       "      <td>-2.8125</td>\n",
       "      <td>1.108902</td>\n",
       "      <td>-0.696023</td>\n",
       "      <td>-0.339962</td>\n",
       "      <td>0.785985</td>\n",
       "      <td>-0.489583</td>\n",
       "      <td>0.237689</td>\n",
       "      <td>0.25</td>\n",
       "      <td>1.0</td>\n",
       "      <td>6.277778</td>\n",
       "      <td>24.0</td>\n",
       "      <td>3.0</td>\n",
       "      <td>-1</td>\n",
       "      <td>-3.0</td>\n",
       "      <td>2.0</td>\n",
       "      <td>-0.073864</td>\n",
       "      <td>0.576185</td>\n",
       "      <td>0.002276</td>\n",
       "      <td>-0.002276</td>\n",
       "      <td>-2.516702</td>\n",
       "      <td>1.018064</td>\n",
       "      <td>1.019285</td>\n",
       "      <td>68.283424</td>\n",
       "      <td>-0.001221</td>\n",
       "    </tr>\n",
       "  </tbody>\n",
       "</table>\n",
       "</div>"
      ],
      "text/plain": [
       "                  ID      Pred  Season  T1_TeamID  T2_TeamID  \\\n",
       "7220  2025_1124_1280  0.497118    2025       1124       1280   \n",
       "\n",
       "      T1_PointDiff_Rating  T1_OE_Rating  T1_DE_Rating  T1_Pace_Rating  \\\n",
       "7220             8.729153      1.043746      0.927321        68.06781   \n",
       "\n",
       "      T2_PointDiff_Rating  T2_OE_Rating  T2_DE_Rating  T2_Pace_Rating  \\\n",
       "7220             8.152968       1.04147      0.929597       70.584512   \n",
       "\n",
       "      T1_reg_Score  T1_reg_opponent_Score  T1_reg_PointDiff  T1_reg_FGM  \\\n",
       "7220          75.5               69.65625           5.84375    26.65625   \n",
       "\n",
       "      T1_reg_FGA  T1_reg_FGM3  T1_reg_FGA3  T1_reg_FTM  T1_reg_FTA  T1_reg_OR  \\\n",
       "7220     59.8125      8.34375      24.0625    13.84375     18.5625    10.6875   \n",
       "\n",
       "      T1_reg_DR  T1_reg_Ast  T1_reg_TO  T1_reg_Stl  T1_reg_Blk  T1_reg_PF  \\\n",
       "7220   21.40625       14.25   10.03125     7.40625     2.71875   16.46875   \n",
       "\n",
       "      T1_reg_opponent_FGM  T1_reg_opponent_FGA  T1_reg_opponent_FGM3  \\\n",
       "7220             24.34375             55.40625                   8.0   \n",
       "\n",
       "      T1_reg_opponent_FGA3  T1_reg_opponent_FTM  T1_reg_opponent_FTA  \\\n",
       "7220              22.59375             12.96875              18.5625   \n",
       "\n",
       "      T1_reg_opponent_OR  T1_reg_opponent_DR  T1_reg_opponent_Ast  \\\n",
       "7220                 9.0             21.1875             14.59375   \n",
       "\n",
       "      T1_reg_opponent_TO  T1_reg_opponent_Stl  T1_reg_opponent_Blk  \\\n",
       "7220            12.03125              5.78125               3.9375   \n",
       "\n",
       "      T1_reg_opponent_PF  T2_reg_Score  T2_reg_opponent_Score  \\\n",
       "7220            16.84375     79.757576              74.151515   \n",
       "\n",
       "      T2_reg_PointDiff  T2_reg_FGM  T2_reg_FGA  T2_reg_FGM3  T2_reg_FGA3  \\\n",
       "7220          5.606061   28.636364   63.484848     8.424242    26.848485   \n",
       "\n",
       "      T2_reg_FTM  T2_reg_FTA  T2_reg_OR  T2_reg_DR  T2_reg_Ast  T2_reg_TO  \\\n",
       "7220   14.060606   20.090909  11.454545       24.0   15.272727  10.181818   \n",
       "\n",
       "      T2_reg_Stl  T2_reg_Blk  T2_reg_PF  T2_reg_opponent_FGM  \\\n",
       "7220    9.212121    4.606061  17.363636            25.363636   \n",
       "\n",
       "      T2_reg_opponent_FGA  T2_reg_opponent_FGM3  T2_reg_opponent_FGA3  \\\n",
       "7220            57.757576              9.212121             25.515152   \n",
       "\n",
       "      T2_reg_opponent_FTM  T2_reg_opponent_FTA  T2_reg_opponent_OR  \\\n",
       "7220            14.212121            20.454545            8.848485   \n",
       "\n",
       "      T2_reg_opponent_DR  T2_reg_opponent_Ast  T2_reg_opponent_TO  \\\n",
       "7220                24.0            13.484848           12.727273   \n",
       "\n",
       "      T2_reg_opponent_Stl  T2_reg_opponent_Blk  T2_reg_opponent_PF  \\\n",
       "7220             6.121212             3.151515           17.333333   \n",
       "\n",
       "      T1_NumGames  T1_NumWins  T1_NumLosses  T1_WinRatio  T2_NumGames  \\\n",
       "7220           32        18.0          14.0       0.5625           33   \n",
       "\n",
       "      T2_NumWins  T2_NumLosses  T2_WinRatio  T1_ordinal_rank_mean  \\\n",
       "7220        21.0          12.0     0.636364              38.62963   \n",
       "\n",
       "      T1_ordinal_rank_max  T1_ordinal_rank_min  T2_ordinal_rank_mean  \\\n",
       "7220                 78.0                 22.0             32.351852   \n",
       "\n",
       "      T2_ordinal_rank_max  T2_ordinal_rank_min  T1_seed  T1_Playin_seed  \\\n",
       "7220                 54.0                 19.0      9.0             0.0   \n",
       "\n",
       "      T2_seed  T2_Playin_seed  T1_win_ratio_14d  T2_win_ratio_14d  \\\n",
       "7220      8.0             0.0               0.5              0.25   \n",
       "\n",
       "      reg_Score_Diff  reg_FGM_Diff  reg_FGA_Diff  reg_FGM3_Diff  \\\n",
       "7220       -4.257576     -1.980114     -3.672348      -0.080492   \n",
       "\n",
       "      reg_FGA3_Diff  reg_FTM_Diff  reg_FTA_Diff  reg_OR_Diff  reg_DR_Diff  \\\n",
       "7220      -2.785985     -0.216856     -1.528409    -0.767045     -2.59375   \n",
       "\n",
       "      reg_Ast_Diff  reg_TO_Diff  reg_Stl_Diff  reg_Blk_Diff  reg_PF_Diff  \\\n",
       "7220     -1.022727    -0.150568     -1.805871     -1.887311    -0.894886   \n",
       "\n",
       "      reg_opponent_Score_Diff  reg_opponent_FGM_Diff  reg_opponent_FGA_Diff  \\\n",
       "7220                -4.495265              -1.019886              -2.351326   \n",
       "\n",
       "      reg_opponent_FGM3_Diff  reg_opponent_FGA3_Diff  reg_opponent_FTM_Diff  \\\n",
       "7220               -1.212121               -2.921402              -1.243371   \n",
       "\n",
       "      reg_opponent_FTA_Diff  reg_opponent_OR_Diff  reg_opponent_DR_Diff  \\\n",
       "7220              -1.892045              0.151515               -2.8125   \n",
       "\n",
       "      reg_opponent_Ast_Diff  reg_opponent_TO_Diff  reg_opponent_Stl_Diff  \\\n",
       "7220               1.108902             -0.696023              -0.339962   \n",
       "\n",
       "      reg_opponent_Blk_Diff  reg_opponent_PF_Diff  reg_PointDiff_Diff  \\\n",
       "7220               0.785985             -0.489583            0.237689   \n",
       "\n",
       "      win_ratio_14d_Diff  seed_Diff  ordinal_rank_mean_Diff  \\\n",
       "7220                0.25        1.0                6.277778   \n",
       "\n",
       "      ordinal_rank_max_Diff  ordinal_rank_min_Diff  NumGames_Diff  \\\n",
       "7220                   24.0                    3.0             -1   \n",
       "\n",
       "      NumWins_Diff  NumLosses_Diff  WinRatio_Diff  PointDiff_Rating_Diff  \\\n",
       "7220          -3.0             2.0      -0.073864               0.576185   \n",
       "\n",
       "      OE_Rating_Diff  DE_Rating_Diff  Pace_Rating_Diff  T1_OE_Pred  \\\n",
       "7220        0.002276       -0.002276         -2.516702    1.018064   \n",
       "\n",
       "      T2_OE_Pred  Pace_Pred  OE_Pred_Diff  \n",
       "7220    1.019285  68.283424     -0.001221  "
      ]
     },
     "execution_count": 44,
     "metadata": {},
     "output_type": "execute_result"
    }
   ],
   "source": [
    "submission.loc[(submission.T1_TeamID == 1124) & (submission.T2_TeamID == 1280)]"
   ]
  },
  {
   "cell_type": "code",
   "execution_count": 45,
   "id": "ca1f0763",
   "metadata": {
    "execution": {
     "iopub.execute_input": "2025-07-05T15:10:45.618390Z",
     "iopub.status.busy": "2025-07-05T15:10:45.617955Z",
     "iopub.status.idle": "2025-07-05T15:10:46.157746Z",
     "shell.execute_reply": "2025-07-05T15:10:46.156457Z"
    },
    "papermill": {
     "duration": 0.565887,
     "end_time": "2025-07-05T15:10:46.159874",
     "exception": false,
     "start_time": "2025-07-05T15:10:45.593987",
     "status": "completed"
    },
    "tags": []
   },
   "outputs": [],
   "source": [
    "submission_2 = submission.copy()\n",
    "submission_3 = submission.copy()"
   ]
  },
  {
   "cell_type": "code",
   "execution_count": 46,
   "id": "0403fdc4",
   "metadata": {
    "execution": {
     "iopub.execute_input": "2025-07-05T15:10:46.198926Z",
     "iopub.status.busy": "2025-07-05T15:10:46.198492Z",
     "iopub.status.idle": "2025-07-05T15:10:46.208608Z",
     "shell.execute_reply": "2025-07-05T15:10:46.207435Z"
    },
    "papermill": {
     "duration": 0.03177,
     "end_time": "2025-07-05T15:10:46.210600",
     "exception": false,
     "start_time": "2025-07-05T15:10:46.178830",
     "status": "completed"
    },
    "tags": []
   },
   "outputs": [],
   "source": [
    "submission_2.loc[(submission_2.T1_TeamID == 1124) & (submission_2.T2_TeamID == 1280), 'Pred'] = 0\n",
    "submission_3.loc[(submission_3.T1_TeamID == 1124) & (submission_3.T2_TeamID == 1280), 'Pred'] = 1"
   ]
  },
  {
   "cell_type": "code",
   "execution_count": 47,
   "id": "abc5562a",
   "metadata": {
    "execution": {
     "iopub.execute_input": "2025-07-05T15:10:46.249571Z",
     "iopub.status.busy": "2025-07-05T15:10:46.249162Z",
     "iopub.status.idle": "2025-07-05T15:10:46.320623Z",
     "shell.execute_reply": "2025-07-05T15:10:46.319290Z"
    },
    "papermill": {
     "duration": 0.093197,
     "end_time": "2025-07-05T15:10:46.322654",
     "exception": false,
     "start_time": "2025-07-05T15:10:46.229457",
     "status": "completed"
    },
    "tags": []
   },
   "outputs": [
    {
     "data": {
      "text/html": [
       "<div>\n",
       "<style scoped>\n",
       "    .dataframe tbody tr th:only-of-type {\n",
       "        vertical-align: middle;\n",
       "    }\n",
       "\n",
       "    .dataframe tbody tr th {\n",
       "        vertical-align: top;\n",
       "    }\n",
       "\n",
       "    .dataframe thead th {\n",
       "        text-align: right;\n",
       "    }\n",
       "</style>\n",
       "<table border=\"1\" class=\"dataframe\">\n",
       "  <thead>\n",
       "    <tr style=\"text-align: right;\">\n",
       "      <th></th>\n",
       "      <th>ID</th>\n",
       "      <th>Pred</th>\n",
       "      <th>Season</th>\n",
       "      <th>T1_TeamID</th>\n",
       "      <th>T2_TeamID</th>\n",
       "      <th>T1_PointDiff_Rating</th>\n",
       "      <th>T1_OE_Rating</th>\n",
       "      <th>T1_DE_Rating</th>\n",
       "      <th>T1_Pace_Rating</th>\n",
       "      <th>T2_PointDiff_Rating</th>\n",
       "      <th>T2_OE_Rating</th>\n",
       "      <th>T2_DE_Rating</th>\n",
       "      <th>T2_Pace_Rating</th>\n",
       "      <th>T1_reg_Score</th>\n",
       "      <th>T1_reg_opponent_Score</th>\n",
       "      <th>T1_reg_PointDiff</th>\n",
       "      <th>T1_reg_FGM</th>\n",
       "      <th>T1_reg_FGA</th>\n",
       "      <th>T1_reg_FGM3</th>\n",
       "      <th>T1_reg_FGA3</th>\n",
       "      <th>T1_reg_FTM</th>\n",
       "      <th>T1_reg_FTA</th>\n",
       "      <th>T1_reg_OR</th>\n",
       "      <th>T1_reg_DR</th>\n",
       "      <th>T1_reg_Ast</th>\n",
       "      <th>T1_reg_TO</th>\n",
       "      <th>T1_reg_Stl</th>\n",
       "      <th>T1_reg_Blk</th>\n",
       "      <th>T1_reg_PF</th>\n",
       "      <th>T1_reg_opponent_FGM</th>\n",
       "      <th>T1_reg_opponent_FGA</th>\n",
       "      <th>T1_reg_opponent_FGM3</th>\n",
       "      <th>T1_reg_opponent_FGA3</th>\n",
       "      <th>T1_reg_opponent_FTM</th>\n",
       "      <th>T1_reg_opponent_FTA</th>\n",
       "      <th>T1_reg_opponent_OR</th>\n",
       "      <th>T1_reg_opponent_DR</th>\n",
       "      <th>T1_reg_opponent_Ast</th>\n",
       "      <th>T1_reg_opponent_TO</th>\n",
       "      <th>T1_reg_opponent_Stl</th>\n",
       "      <th>T1_reg_opponent_Blk</th>\n",
       "      <th>T1_reg_opponent_PF</th>\n",
       "      <th>T2_reg_Score</th>\n",
       "      <th>T2_reg_opponent_Score</th>\n",
       "      <th>T2_reg_PointDiff</th>\n",
       "      <th>T2_reg_FGM</th>\n",
       "      <th>T2_reg_FGA</th>\n",
       "      <th>T2_reg_FGM3</th>\n",
       "      <th>T2_reg_FGA3</th>\n",
       "      <th>T2_reg_FTM</th>\n",
       "      <th>T2_reg_FTA</th>\n",
       "      <th>T2_reg_OR</th>\n",
       "      <th>T2_reg_DR</th>\n",
       "      <th>T2_reg_Ast</th>\n",
       "      <th>T2_reg_TO</th>\n",
       "      <th>T2_reg_Stl</th>\n",
       "      <th>T2_reg_Blk</th>\n",
       "      <th>T2_reg_PF</th>\n",
       "      <th>T2_reg_opponent_FGM</th>\n",
       "      <th>T2_reg_opponent_FGA</th>\n",
       "      <th>T2_reg_opponent_FGM3</th>\n",
       "      <th>T2_reg_opponent_FGA3</th>\n",
       "      <th>T2_reg_opponent_FTM</th>\n",
       "      <th>T2_reg_opponent_FTA</th>\n",
       "      <th>T2_reg_opponent_OR</th>\n",
       "      <th>T2_reg_opponent_DR</th>\n",
       "      <th>T2_reg_opponent_Ast</th>\n",
       "      <th>T2_reg_opponent_TO</th>\n",
       "      <th>T2_reg_opponent_Stl</th>\n",
       "      <th>T2_reg_opponent_Blk</th>\n",
       "      <th>T2_reg_opponent_PF</th>\n",
       "      <th>T1_NumGames</th>\n",
       "      <th>T1_NumWins</th>\n",
       "      <th>T1_NumLosses</th>\n",
       "      <th>T1_WinRatio</th>\n",
       "      <th>T2_NumGames</th>\n",
       "      <th>T2_NumWins</th>\n",
       "      <th>T2_NumLosses</th>\n",
       "      <th>T2_WinRatio</th>\n",
       "      <th>T1_ordinal_rank_mean</th>\n",
       "      <th>T1_ordinal_rank_max</th>\n",
       "      <th>T1_ordinal_rank_min</th>\n",
       "      <th>T2_ordinal_rank_mean</th>\n",
       "      <th>T2_ordinal_rank_max</th>\n",
       "      <th>T2_ordinal_rank_min</th>\n",
       "      <th>T1_seed</th>\n",
       "      <th>T1_Playin_seed</th>\n",
       "      <th>T2_seed</th>\n",
       "      <th>T2_Playin_seed</th>\n",
       "      <th>T1_win_ratio_14d</th>\n",
       "      <th>T2_win_ratio_14d</th>\n",
       "      <th>reg_Score_Diff</th>\n",
       "      <th>reg_FGM_Diff</th>\n",
       "      <th>reg_FGA_Diff</th>\n",
       "      <th>reg_FGM3_Diff</th>\n",
       "      <th>reg_FGA3_Diff</th>\n",
       "      <th>reg_FTM_Diff</th>\n",
       "      <th>reg_FTA_Diff</th>\n",
       "      <th>reg_OR_Diff</th>\n",
       "      <th>reg_DR_Diff</th>\n",
       "      <th>reg_Ast_Diff</th>\n",
       "      <th>reg_TO_Diff</th>\n",
       "      <th>reg_Stl_Diff</th>\n",
       "      <th>reg_Blk_Diff</th>\n",
       "      <th>reg_PF_Diff</th>\n",
       "      <th>reg_opponent_Score_Diff</th>\n",
       "      <th>reg_opponent_FGM_Diff</th>\n",
       "      <th>reg_opponent_FGA_Diff</th>\n",
       "      <th>reg_opponent_FGM3_Diff</th>\n",
       "      <th>reg_opponent_FGA3_Diff</th>\n",
       "      <th>reg_opponent_FTM_Diff</th>\n",
       "      <th>reg_opponent_FTA_Diff</th>\n",
       "      <th>reg_opponent_OR_Diff</th>\n",
       "      <th>reg_opponent_DR_Diff</th>\n",
       "      <th>reg_opponent_Ast_Diff</th>\n",
       "      <th>reg_opponent_TO_Diff</th>\n",
       "      <th>reg_opponent_Stl_Diff</th>\n",
       "      <th>reg_opponent_Blk_Diff</th>\n",
       "      <th>reg_opponent_PF_Diff</th>\n",
       "      <th>reg_PointDiff_Diff</th>\n",
       "      <th>win_ratio_14d_Diff</th>\n",
       "      <th>seed_Diff</th>\n",
       "      <th>ordinal_rank_mean_Diff</th>\n",
       "      <th>ordinal_rank_max_Diff</th>\n",
       "      <th>ordinal_rank_min_Diff</th>\n",
       "      <th>NumGames_Diff</th>\n",
       "      <th>NumWins_Diff</th>\n",
       "      <th>NumLosses_Diff</th>\n",
       "      <th>WinRatio_Diff</th>\n",
       "      <th>PointDiff_Rating_Diff</th>\n",
       "      <th>OE_Rating_Diff</th>\n",
       "      <th>DE_Rating_Diff</th>\n",
       "      <th>Pace_Rating_Diff</th>\n",
       "      <th>T1_OE_Pred</th>\n",
       "      <th>T2_OE_Pred</th>\n",
       "      <th>Pace_Pred</th>\n",
       "      <th>OE_Pred_Diff</th>\n",
       "    </tr>\n",
       "  </thead>\n",
       "  <tbody>\n",
       "    <tr>\n",
       "      <th>7220</th>\n",
       "      <td>2025_1124_1280</td>\n",
       "      <td>0.0</td>\n",
       "      <td>2025</td>\n",
       "      <td>1124</td>\n",
       "      <td>1280</td>\n",
       "      <td>8.729153</td>\n",
       "      <td>1.043746</td>\n",
       "      <td>0.927321</td>\n",
       "      <td>68.06781</td>\n",
       "      <td>8.152968</td>\n",
       "      <td>1.04147</td>\n",
       "      <td>0.929597</td>\n",
       "      <td>70.584512</td>\n",
       "      <td>75.5</td>\n",
       "      <td>69.65625</td>\n",
       "      <td>5.84375</td>\n",
       "      <td>26.65625</td>\n",
       "      <td>59.8125</td>\n",
       "      <td>8.34375</td>\n",
       "      <td>24.0625</td>\n",
       "      <td>13.84375</td>\n",
       "      <td>18.5625</td>\n",
       "      <td>10.6875</td>\n",
       "      <td>21.40625</td>\n",
       "      <td>14.25</td>\n",
       "      <td>10.03125</td>\n",
       "      <td>7.40625</td>\n",
       "      <td>2.71875</td>\n",
       "      <td>16.46875</td>\n",
       "      <td>24.34375</td>\n",
       "      <td>55.40625</td>\n",
       "      <td>8.0</td>\n",
       "      <td>22.59375</td>\n",
       "      <td>12.96875</td>\n",
       "      <td>18.5625</td>\n",
       "      <td>9.0</td>\n",
       "      <td>21.1875</td>\n",
       "      <td>14.59375</td>\n",
       "      <td>12.03125</td>\n",
       "      <td>5.78125</td>\n",
       "      <td>3.9375</td>\n",
       "      <td>16.84375</td>\n",
       "      <td>79.757576</td>\n",
       "      <td>74.151515</td>\n",
       "      <td>5.606061</td>\n",
       "      <td>28.636364</td>\n",
       "      <td>63.484848</td>\n",
       "      <td>8.424242</td>\n",
       "      <td>26.848485</td>\n",
       "      <td>14.060606</td>\n",
       "      <td>20.090909</td>\n",
       "      <td>11.454545</td>\n",
       "      <td>24.0</td>\n",
       "      <td>15.272727</td>\n",
       "      <td>10.181818</td>\n",
       "      <td>9.212121</td>\n",
       "      <td>4.606061</td>\n",
       "      <td>17.363636</td>\n",
       "      <td>25.363636</td>\n",
       "      <td>57.757576</td>\n",
       "      <td>9.212121</td>\n",
       "      <td>25.515152</td>\n",
       "      <td>14.212121</td>\n",
       "      <td>20.454545</td>\n",
       "      <td>8.848485</td>\n",
       "      <td>24.0</td>\n",
       "      <td>13.484848</td>\n",
       "      <td>12.727273</td>\n",
       "      <td>6.121212</td>\n",
       "      <td>3.151515</td>\n",
       "      <td>17.333333</td>\n",
       "      <td>32</td>\n",
       "      <td>18.0</td>\n",
       "      <td>14.0</td>\n",
       "      <td>0.5625</td>\n",
       "      <td>33</td>\n",
       "      <td>21.0</td>\n",
       "      <td>12.0</td>\n",
       "      <td>0.636364</td>\n",
       "      <td>38.62963</td>\n",
       "      <td>78.0</td>\n",
       "      <td>22.0</td>\n",
       "      <td>32.351852</td>\n",
       "      <td>54.0</td>\n",
       "      <td>19.0</td>\n",
       "      <td>9.0</td>\n",
       "      <td>0.0</td>\n",
       "      <td>8.0</td>\n",
       "      <td>0.0</td>\n",
       "      <td>0.5</td>\n",
       "      <td>0.25</td>\n",
       "      <td>-4.257576</td>\n",
       "      <td>-1.980114</td>\n",
       "      <td>-3.672348</td>\n",
       "      <td>-0.080492</td>\n",
       "      <td>-2.785985</td>\n",
       "      <td>-0.216856</td>\n",
       "      <td>-1.528409</td>\n",
       "      <td>-0.767045</td>\n",
       "      <td>-2.59375</td>\n",
       "      <td>-1.022727</td>\n",
       "      <td>-0.150568</td>\n",
       "      <td>-1.805871</td>\n",
       "      <td>-1.887311</td>\n",
       "      <td>-0.894886</td>\n",
       "      <td>-4.495265</td>\n",
       "      <td>-1.019886</td>\n",
       "      <td>-2.351326</td>\n",
       "      <td>-1.212121</td>\n",
       "      <td>-2.921402</td>\n",
       "      <td>-1.243371</td>\n",
       "      <td>-1.892045</td>\n",
       "      <td>0.151515</td>\n",
       "      <td>-2.8125</td>\n",
       "      <td>1.108902</td>\n",
       "      <td>-0.696023</td>\n",
       "      <td>-0.339962</td>\n",
       "      <td>0.785985</td>\n",
       "      <td>-0.489583</td>\n",
       "      <td>0.237689</td>\n",
       "      <td>0.25</td>\n",
       "      <td>1.0</td>\n",
       "      <td>6.277778</td>\n",
       "      <td>24.0</td>\n",
       "      <td>3.0</td>\n",
       "      <td>-1</td>\n",
       "      <td>-3.0</td>\n",
       "      <td>2.0</td>\n",
       "      <td>-0.073864</td>\n",
       "      <td>0.576185</td>\n",
       "      <td>0.002276</td>\n",
       "      <td>-0.002276</td>\n",
       "      <td>-2.516702</td>\n",
       "      <td>1.018064</td>\n",
       "      <td>1.019285</td>\n",
       "      <td>68.283424</td>\n",
       "      <td>-0.001221</td>\n",
       "    </tr>\n",
       "  </tbody>\n",
       "</table>\n",
       "</div>"
      ],
      "text/plain": [
       "                  ID  Pred  Season  T1_TeamID  T2_TeamID  T1_PointDiff_Rating  \\\n",
       "7220  2025_1124_1280   0.0    2025       1124       1280             8.729153   \n",
       "\n",
       "      T1_OE_Rating  T1_DE_Rating  T1_Pace_Rating  T2_PointDiff_Rating  \\\n",
       "7220      1.043746      0.927321        68.06781             8.152968   \n",
       "\n",
       "      T2_OE_Rating  T2_DE_Rating  T2_Pace_Rating  T1_reg_Score  \\\n",
       "7220       1.04147      0.929597       70.584512          75.5   \n",
       "\n",
       "      T1_reg_opponent_Score  T1_reg_PointDiff  T1_reg_FGM  T1_reg_FGA  \\\n",
       "7220               69.65625           5.84375    26.65625     59.8125   \n",
       "\n",
       "      T1_reg_FGM3  T1_reg_FGA3  T1_reg_FTM  T1_reg_FTA  T1_reg_OR  T1_reg_DR  \\\n",
       "7220      8.34375      24.0625    13.84375     18.5625    10.6875   21.40625   \n",
       "\n",
       "      T1_reg_Ast  T1_reg_TO  T1_reg_Stl  T1_reg_Blk  T1_reg_PF  \\\n",
       "7220       14.25   10.03125     7.40625     2.71875   16.46875   \n",
       "\n",
       "      T1_reg_opponent_FGM  T1_reg_opponent_FGA  T1_reg_opponent_FGM3  \\\n",
       "7220             24.34375             55.40625                   8.0   \n",
       "\n",
       "      T1_reg_opponent_FGA3  T1_reg_opponent_FTM  T1_reg_opponent_FTA  \\\n",
       "7220              22.59375             12.96875              18.5625   \n",
       "\n",
       "      T1_reg_opponent_OR  T1_reg_opponent_DR  T1_reg_opponent_Ast  \\\n",
       "7220                 9.0             21.1875             14.59375   \n",
       "\n",
       "      T1_reg_opponent_TO  T1_reg_opponent_Stl  T1_reg_opponent_Blk  \\\n",
       "7220            12.03125              5.78125               3.9375   \n",
       "\n",
       "      T1_reg_opponent_PF  T2_reg_Score  T2_reg_opponent_Score  \\\n",
       "7220            16.84375     79.757576              74.151515   \n",
       "\n",
       "      T2_reg_PointDiff  T2_reg_FGM  T2_reg_FGA  T2_reg_FGM3  T2_reg_FGA3  \\\n",
       "7220          5.606061   28.636364   63.484848     8.424242    26.848485   \n",
       "\n",
       "      T2_reg_FTM  T2_reg_FTA  T2_reg_OR  T2_reg_DR  T2_reg_Ast  T2_reg_TO  \\\n",
       "7220   14.060606   20.090909  11.454545       24.0   15.272727  10.181818   \n",
       "\n",
       "      T2_reg_Stl  T2_reg_Blk  T2_reg_PF  T2_reg_opponent_FGM  \\\n",
       "7220    9.212121    4.606061  17.363636            25.363636   \n",
       "\n",
       "      T2_reg_opponent_FGA  T2_reg_opponent_FGM3  T2_reg_opponent_FGA3  \\\n",
       "7220            57.757576              9.212121             25.515152   \n",
       "\n",
       "      T2_reg_opponent_FTM  T2_reg_opponent_FTA  T2_reg_opponent_OR  \\\n",
       "7220            14.212121            20.454545            8.848485   \n",
       "\n",
       "      T2_reg_opponent_DR  T2_reg_opponent_Ast  T2_reg_opponent_TO  \\\n",
       "7220                24.0            13.484848           12.727273   \n",
       "\n",
       "      T2_reg_opponent_Stl  T2_reg_opponent_Blk  T2_reg_opponent_PF  \\\n",
       "7220             6.121212             3.151515           17.333333   \n",
       "\n",
       "      T1_NumGames  T1_NumWins  T1_NumLosses  T1_WinRatio  T2_NumGames  \\\n",
       "7220           32        18.0          14.0       0.5625           33   \n",
       "\n",
       "      T2_NumWins  T2_NumLosses  T2_WinRatio  T1_ordinal_rank_mean  \\\n",
       "7220        21.0          12.0     0.636364              38.62963   \n",
       "\n",
       "      T1_ordinal_rank_max  T1_ordinal_rank_min  T2_ordinal_rank_mean  \\\n",
       "7220                 78.0                 22.0             32.351852   \n",
       "\n",
       "      T2_ordinal_rank_max  T2_ordinal_rank_min  T1_seed  T1_Playin_seed  \\\n",
       "7220                 54.0                 19.0      9.0             0.0   \n",
       "\n",
       "      T2_seed  T2_Playin_seed  T1_win_ratio_14d  T2_win_ratio_14d  \\\n",
       "7220      8.0             0.0               0.5              0.25   \n",
       "\n",
       "      reg_Score_Diff  reg_FGM_Diff  reg_FGA_Diff  reg_FGM3_Diff  \\\n",
       "7220       -4.257576     -1.980114     -3.672348      -0.080492   \n",
       "\n",
       "      reg_FGA3_Diff  reg_FTM_Diff  reg_FTA_Diff  reg_OR_Diff  reg_DR_Diff  \\\n",
       "7220      -2.785985     -0.216856     -1.528409    -0.767045     -2.59375   \n",
       "\n",
       "      reg_Ast_Diff  reg_TO_Diff  reg_Stl_Diff  reg_Blk_Diff  reg_PF_Diff  \\\n",
       "7220     -1.022727    -0.150568     -1.805871     -1.887311    -0.894886   \n",
       "\n",
       "      reg_opponent_Score_Diff  reg_opponent_FGM_Diff  reg_opponent_FGA_Diff  \\\n",
       "7220                -4.495265              -1.019886              -2.351326   \n",
       "\n",
       "      reg_opponent_FGM3_Diff  reg_opponent_FGA3_Diff  reg_opponent_FTM_Diff  \\\n",
       "7220               -1.212121               -2.921402              -1.243371   \n",
       "\n",
       "      reg_opponent_FTA_Diff  reg_opponent_OR_Diff  reg_opponent_DR_Diff  \\\n",
       "7220              -1.892045              0.151515               -2.8125   \n",
       "\n",
       "      reg_opponent_Ast_Diff  reg_opponent_TO_Diff  reg_opponent_Stl_Diff  \\\n",
       "7220               1.108902             -0.696023              -0.339962   \n",
       "\n",
       "      reg_opponent_Blk_Diff  reg_opponent_PF_Diff  reg_PointDiff_Diff  \\\n",
       "7220               0.785985             -0.489583            0.237689   \n",
       "\n",
       "      win_ratio_14d_Diff  seed_Diff  ordinal_rank_mean_Diff  \\\n",
       "7220                0.25        1.0                6.277778   \n",
       "\n",
       "      ordinal_rank_max_Diff  ordinal_rank_min_Diff  NumGames_Diff  \\\n",
       "7220                   24.0                    3.0             -1   \n",
       "\n",
       "      NumWins_Diff  NumLosses_Diff  WinRatio_Diff  PointDiff_Rating_Diff  \\\n",
       "7220          -3.0             2.0      -0.073864               0.576185   \n",
       "\n",
       "      OE_Rating_Diff  DE_Rating_Diff  Pace_Rating_Diff  T1_OE_Pred  \\\n",
       "7220        0.002276       -0.002276         -2.516702    1.018064   \n",
       "\n",
       "      T2_OE_Pred  Pace_Pred  OE_Pred_Diff  \n",
       "7220    1.019285  68.283424     -0.001221  "
      ]
     },
     "execution_count": 47,
     "metadata": {},
     "output_type": "execute_result"
    }
   ],
   "source": [
    "submission_2.loc[(submission_2.T1_TeamID == 1124) & (submission_2.T2_TeamID == 1280)]"
   ]
  },
  {
   "cell_type": "code",
   "execution_count": 48,
   "id": "74bfe188",
   "metadata": {
    "execution": {
     "iopub.execute_input": "2025-07-05T15:10:46.365945Z",
     "iopub.status.busy": "2025-07-05T15:10:46.365527Z",
     "iopub.status.idle": "2025-07-05T15:10:46.442543Z",
     "shell.execute_reply": "2025-07-05T15:10:46.441043Z"
    },
    "papermill": {
     "duration": 0.100974,
     "end_time": "2025-07-05T15:10:46.444514",
     "exception": false,
     "start_time": "2025-07-05T15:10:46.343540",
     "status": "completed"
    },
    "tags": []
   },
   "outputs": [
    {
     "data": {
      "text/html": [
       "<div>\n",
       "<style scoped>\n",
       "    .dataframe tbody tr th:only-of-type {\n",
       "        vertical-align: middle;\n",
       "    }\n",
       "\n",
       "    .dataframe tbody tr th {\n",
       "        vertical-align: top;\n",
       "    }\n",
       "\n",
       "    .dataframe thead th {\n",
       "        text-align: right;\n",
       "    }\n",
       "</style>\n",
       "<table border=\"1\" class=\"dataframe\">\n",
       "  <thead>\n",
       "    <tr style=\"text-align: right;\">\n",
       "      <th></th>\n",
       "      <th>ID</th>\n",
       "      <th>Pred</th>\n",
       "      <th>Season</th>\n",
       "      <th>T1_TeamID</th>\n",
       "      <th>T2_TeamID</th>\n",
       "      <th>T1_PointDiff_Rating</th>\n",
       "      <th>T1_OE_Rating</th>\n",
       "      <th>T1_DE_Rating</th>\n",
       "      <th>T1_Pace_Rating</th>\n",
       "      <th>T2_PointDiff_Rating</th>\n",
       "      <th>T2_OE_Rating</th>\n",
       "      <th>T2_DE_Rating</th>\n",
       "      <th>T2_Pace_Rating</th>\n",
       "      <th>T1_reg_Score</th>\n",
       "      <th>T1_reg_opponent_Score</th>\n",
       "      <th>T1_reg_PointDiff</th>\n",
       "      <th>T1_reg_FGM</th>\n",
       "      <th>T1_reg_FGA</th>\n",
       "      <th>T1_reg_FGM3</th>\n",
       "      <th>T1_reg_FGA3</th>\n",
       "      <th>T1_reg_FTM</th>\n",
       "      <th>T1_reg_FTA</th>\n",
       "      <th>T1_reg_OR</th>\n",
       "      <th>T1_reg_DR</th>\n",
       "      <th>T1_reg_Ast</th>\n",
       "      <th>T1_reg_TO</th>\n",
       "      <th>T1_reg_Stl</th>\n",
       "      <th>T1_reg_Blk</th>\n",
       "      <th>T1_reg_PF</th>\n",
       "      <th>T1_reg_opponent_FGM</th>\n",
       "      <th>T1_reg_opponent_FGA</th>\n",
       "      <th>T1_reg_opponent_FGM3</th>\n",
       "      <th>T1_reg_opponent_FGA3</th>\n",
       "      <th>T1_reg_opponent_FTM</th>\n",
       "      <th>T1_reg_opponent_FTA</th>\n",
       "      <th>T1_reg_opponent_OR</th>\n",
       "      <th>T1_reg_opponent_DR</th>\n",
       "      <th>T1_reg_opponent_Ast</th>\n",
       "      <th>T1_reg_opponent_TO</th>\n",
       "      <th>T1_reg_opponent_Stl</th>\n",
       "      <th>T1_reg_opponent_Blk</th>\n",
       "      <th>T1_reg_opponent_PF</th>\n",
       "      <th>T2_reg_Score</th>\n",
       "      <th>T2_reg_opponent_Score</th>\n",
       "      <th>T2_reg_PointDiff</th>\n",
       "      <th>T2_reg_FGM</th>\n",
       "      <th>T2_reg_FGA</th>\n",
       "      <th>T2_reg_FGM3</th>\n",
       "      <th>T2_reg_FGA3</th>\n",
       "      <th>T2_reg_FTM</th>\n",
       "      <th>T2_reg_FTA</th>\n",
       "      <th>T2_reg_OR</th>\n",
       "      <th>T2_reg_DR</th>\n",
       "      <th>T2_reg_Ast</th>\n",
       "      <th>T2_reg_TO</th>\n",
       "      <th>T2_reg_Stl</th>\n",
       "      <th>T2_reg_Blk</th>\n",
       "      <th>T2_reg_PF</th>\n",
       "      <th>T2_reg_opponent_FGM</th>\n",
       "      <th>T2_reg_opponent_FGA</th>\n",
       "      <th>T2_reg_opponent_FGM3</th>\n",
       "      <th>T2_reg_opponent_FGA3</th>\n",
       "      <th>T2_reg_opponent_FTM</th>\n",
       "      <th>T2_reg_opponent_FTA</th>\n",
       "      <th>T2_reg_opponent_OR</th>\n",
       "      <th>T2_reg_opponent_DR</th>\n",
       "      <th>T2_reg_opponent_Ast</th>\n",
       "      <th>T2_reg_opponent_TO</th>\n",
       "      <th>T2_reg_opponent_Stl</th>\n",
       "      <th>T2_reg_opponent_Blk</th>\n",
       "      <th>T2_reg_opponent_PF</th>\n",
       "      <th>T1_NumGames</th>\n",
       "      <th>T1_NumWins</th>\n",
       "      <th>T1_NumLosses</th>\n",
       "      <th>T1_WinRatio</th>\n",
       "      <th>T2_NumGames</th>\n",
       "      <th>T2_NumWins</th>\n",
       "      <th>T2_NumLosses</th>\n",
       "      <th>T2_WinRatio</th>\n",
       "      <th>T1_ordinal_rank_mean</th>\n",
       "      <th>T1_ordinal_rank_max</th>\n",
       "      <th>T1_ordinal_rank_min</th>\n",
       "      <th>T2_ordinal_rank_mean</th>\n",
       "      <th>T2_ordinal_rank_max</th>\n",
       "      <th>T2_ordinal_rank_min</th>\n",
       "      <th>T1_seed</th>\n",
       "      <th>T1_Playin_seed</th>\n",
       "      <th>T2_seed</th>\n",
       "      <th>T2_Playin_seed</th>\n",
       "      <th>T1_win_ratio_14d</th>\n",
       "      <th>T2_win_ratio_14d</th>\n",
       "      <th>reg_Score_Diff</th>\n",
       "      <th>reg_FGM_Diff</th>\n",
       "      <th>reg_FGA_Diff</th>\n",
       "      <th>reg_FGM3_Diff</th>\n",
       "      <th>reg_FGA3_Diff</th>\n",
       "      <th>reg_FTM_Diff</th>\n",
       "      <th>reg_FTA_Diff</th>\n",
       "      <th>reg_OR_Diff</th>\n",
       "      <th>reg_DR_Diff</th>\n",
       "      <th>reg_Ast_Diff</th>\n",
       "      <th>reg_TO_Diff</th>\n",
       "      <th>reg_Stl_Diff</th>\n",
       "      <th>reg_Blk_Diff</th>\n",
       "      <th>reg_PF_Diff</th>\n",
       "      <th>reg_opponent_Score_Diff</th>\n",
       "      <th>reg_opponent_FGM_Diff</th>\n",
       "      <th>reg_opponent_FGA_Diff</th>\n",
       "      <th>reg_opponent_FGM3_Diff</th>\n",
       "      <th>reg_opponent_FGA3_Diff</th>\n",
       "      <th>reg_opponent_FTM_Diff</th>\n",
       "      <th>reg_opponent_FTA_Diff</th>\n",
       "      <th>reg_opponent_OR_Diff</th>\n",
       "      <th>reg_opponent_DR_Diff</th>\n",
       "      <th>reg_opponent_Ast_Diff</th>\n",
       "      <th>reg_opponent_TO_Diff</th>\n",
       "      <th>reg_opponent_Stl_Diff</th>\n",
       "      <th>reg_opponent_Blk_Diff</th>\n",
       "      <th>reg_opponent_PF_Diff</th>\n",
       "      <th>reg_PointDiff_Diff</th>\n",
       "      <th>win_ratio_14d_Diff</th>\n",
       "      <th>seed_Diff</th>\n",
       "      <th>ordinal_rank_mean_Diff</th>\n",
       "      <th>ordinal_rank_max_Diff</th>\n",
       "      <th>ordinal_rank_min_Diff</th>\n",
       "      <th>NumGames_Diff</th>\n",
       "      <th>NumWins_Diff</th>\n",
       "      <th>NumLosses_Diff</th>\n",
       "      <th>WinRatio_Diff</th>\n",
       "      <th>PointDiff_Rating_Diff</th>\n",
       "      <th>OE_Rating_Diff</th>\n",
       "      <th>DE_Rating_Diff</th>\n",
       "      <th>Pace_Rating_Diff</th>\n",
       "      <th>T1_OE_Pred</th>\n",
       "      <th>T2_OE_Pred</th>\n",
       "      <th>Pace_Pred</th>\n",
       "      <th>OE_Pred_Diff</th>\n",
       "    </tr>\n",
       "  </thead>\n",
       "  <tbody>\n",
       "    <tr>\n",
       "      <th>7220</th>\n",
       "      <td>2025_1124_1280</td>\n",
       "      <td>1.0</td>\n",
       "      <td>2025</td>\n",
       "      <td>1124</td>\n",
       "      <td>1280</td>\n",
       "      <td>8.729153</td>\n",
       "      <td>1.043746</td>\n",
       "      <td>0.927321</td>\n",
       "      <td>68.06781</td>\n",
       "      <td>8.152968</td>\n",
       "      <td>1.04147</td>\n",
       "      <td>0.929597</td>\n",
       "      <td>70.584512</td>\n",
       "      <td>75.5</td>\n",
       "      <td>69.65625</td>\n",
       "      <td>5.84375</td>\n",
       "      <td>26.65625</td>\n",
       "      <td>59.8125</td>\n",
       "      <td>8.34375</td>\n",
       "      <td>24.0625</td>\n",
       "      <td>13.84375</td>\n",
       "      <td>18.5625</td>\n",
       "      <td>10.6875</td>\n",
       "      <td>21.40625</td>\n",
       "      <td>14.25</td>\n",
       "      <td>10.03125</td>\n",
       "      <td>7.40625</td>\n",
       "      <td>2.71875</td>\n",
       "      <td>16.46875</td>\n",
       "      <td>24.34375</td>\n",
       "      <td>55.40625</td>\n",
       "      <td>8.0</td>\n",
       "      <td>22.59375</td>\n",
       "      <td>12.96875</td>\n",
       "      <td>18.5625</td>\n",
       "      <td>9.0</td>\n",
       "      <td>21.1875</td>\n",
       "      <td>14.59375</td>\n",
       "      <td>12.03125</td>\n",
       "      <td>5.78125</td>\n",
       "      <td>3.9375</td>\n",
       "      <td>16.84375</td>\n",
       "      <td>79.757576</td>\n",
       "      <td>74.151515</td>\n",
       "      <td>5.606061</td>\n",
       "      <td>28.636364</td>\n",
       "      <td>63.484848</td>\n",
       "      <td>8.424242</td>\n",
       "      <td>26.848485</td>\n",
       "      <td>14.060606</td>\n",
       "      <td>20.090909</td>\n",
       "      <td>11.454545</td>\n",
       "      <td>24.0</td>\n",
       "      <td>15.272727</td>\n",
       "      <td>10.181818</td>\n",
       "      <td>9.212121</td>\n",
       "      <td>4.606061</td>\n",
       "      <td>17.363636</td>\n",
       "      <td>25.363636</td>\n",
       "      <td>57.757576</td>\n",
       "      <td>9.212121</td>\n",
       "      <td>25.515152</td>\n",
       "      <td>14.212121</td>\n",
       "      <td>20.454545</td>\n",
       "      <td>8.848485</td>\n",
       "      <td>24.0</td>\n",
       "      <td>13.484848</td>\n",
       "      <td>12.727273</td>\n",
       "      <td>6.121212</td>\n",
       "      <td>3.151515</td>\n",
       "      <td>17.333333</td>\n",
       "      <td>32</td>\n",
       "      <td>18.0</td>\n",
       "      <td>14.0</td>\n",
       "      <td>0.5625</td>\n",
       "      <td>33</td>\n",
       "      <td>21.0</td>\n",
       "      <td>12.0</td>\n",
       "      <td>0.636364</td>\n",
       "      <td>38.62963</td>\n",
       "      <td>78.0</td>\n",
       "      <td>22.0</td>\n",
       "      <td>32.351852</td>\n",
       "      <td>54.0</td>\n",
       "      <td>19.0</td>\n",
       "      <td>9.0</td>\n",
       "      <td>0.0</td>\n",
       "      <td>8.0</td>\n",
       "      <td>0.0</td>\n",
       "      <td>0.5</td>\n",
       "      <td>0.25</td>\n",
       "      <td>-4.257576</td>\n",
       "      <td>-1.980114</td>\n",
       "      <td>-3.672348</td>\n",
       "      <td>-0.080492</td>\n",
       "      <td>-2.785985</td>\n",
       "      <td>-0.216856</td>\n",
       "      <td>-1.528409</td>\n",
       "      <td>-0.767045</td>\n",
       "      <td>-2.59375</td>\n",
       "      <td>-1.022727</td>\n",
       "      <td>-0.150568</td>\n",
       "      <td>-1.805871</td>\n",
       "      <td>-1.887311</td>\n",
       "      <td>-0.894886</td>\n",
       "      <td>-4.495265</td>\n",
       "      <td>-1.019886</td>\n",
       "      <td>-2.351326</td>\n",
       "      <td>-1.212121</td>\n",
       "      <td>-2.921402</td>\n",
       "      <td>-1.243371</td>\n",
       "      <td>-1.892045</td>\n",
       "      <td>0.151515</td>\n",
       "      <td>-2.8125</td>\n",
       "      <td>1.108902</td>\n",
       "      <td>-0.696023</td>\n",
       "      <td>-0.339962</td>\n",
       "      <td>0.785985</td>\n",
       "      <td>-0.489583</td>\n",
       "      <td>0.237689</td>\n",
       "      <td>0.25</td>\n",
       "      <td>1.0</td>\n",
       "      <td>6.277778</td>\n",
       "      <td>24.0</td>\n",
       "      <td>3.0</td>\n",
       "      <td>-1</td>\n",
       "      <td>-3.0</td>\n",
       "      <td>2.0</td>\n",
       "      <td>-0.073864</td>\n",
       "      <td>0.576185</td>\n",
       "      <td>0.002276</td>\n",
       "      <td>-0.002276</td>\n",
       "      <td>-2.516702</td>\n",
       "      <td>1.018064</td>\n",
       "      <td>1.019285</td>\n",
       "      <td>68.283424</td>\n",
       "      <td>-0.001221</td>\n",
       "    </tr>\n",
       "  </tbody>\n",
       "</table>\n",
       "</div>"
      ],
      "text/plain": [
       "                  ID  Pred  Season  T1_TeamID  T2_TeamID  T1_PointDiff_Rating  \\\n",
       "7220  2025_1124_1280   1.0    2025       1124       1280             8.729153   \n",
       "\n",
       "      T1_OE_Rating  T1_DE_Rating  T1_Pace_Rating  T2_PointDiff_Rating  \\\n",
       "7220      1.043746      0.927321        68.06781             8.152968   \n",
       "\n",
       "      T2_OE_Rating  T2_DE_Rating  T2_Pace_Rating  T1_reg_Score  \\\n",
       "7220       1.04147      0.929597       70.584512          75.5   \n",
       "\n",
       "      T1_reg_opponent_Score  T1_reg_PointDiff  T1_reg_FGM  T1_reg_FGA  \\\n",
       "7220               69.65625           5.84375    26.65625     59.8125   \n",
       "\n",
       "      T1_reg_FGM3  T1_reg_FGA3  T1_reg_FTM  T1_reg_FTA  T1_reg_OR  T1_reg_DR  \\\n",
       "7220      8.34375      24.0625    13.84375     18.5625    10.6875   21.40625   \n",
       "\n",
       "      T1_reg_Ast  T1_reg_TO  T1_reg_Stl  T1_reg_Blk  T1_reg_PF  \\\n",
       "7220       14.25   10.03125     7.40625     2.71875   16.46875   \n",
       "\n",
       "      T1_reg_opponent_FGM  T1_reg_opponent_FGA  T1_reg_opponent_FGM3  \\\n",
       "7220             24.34375             55.40625                   8.0   \n",
       "\n",
       "      T1_reg_opponent_FGA3  T1_reg_opponent_FTM  T1_reg_opponent_FTA  \\\n",
       "7220              22.59375             12.96875              18.5625   \n",
       "\n",
       "      T1_reg_opponent_OR  T1_reg_opponent_DR  T1_reg_opponent_Ast  \\\n",
       "7220                 9.0             21.1875             14.59375   \n",
       "\n",
       "      T1_reg_opponent_TO  T1_reg_opponent_Stl  T1_reg_opponent_Blk  \\\n",
       "7220            12.03125              5.78125               3.9375   \n",
       "\n",
       "      T1_reg_opponent_PF  T2_reg_Score  T2_reg_opponent_Score  \\\n",
       "7220            16.84375     79.757576              74.151515   \n",
       "\n",
       "      T2_reg_PointDiff  T2_reg_FGM  T2_reg_FGA  T2_reg_FGM3  T2_reg_FGA3  \\\n",
       "7220          5.606061   28.636364   63.484848     8.424242    26.848485   \n",
       "\n",
       "      T2_reg_FTM  T2_reg_FTA  T2_reg_OR  T2_reg_DR  T2_reg_Ast  T2_reg_TO  \\\n",
       "7220   14.060606   20.090909  11.454545       24.0   15.272727  10.181818   \n",
       "\n",
       "      T2_reg_Stl  T2_reg_Blk  T2_reg_PF  T2_reg_opponent_FGM  \\\n",
       "7220    9.212121    4.606061  17.363636            25.363636   \n",
       "\n",
       "      T2_reg_opponent_FGA  T2_reg_opponent_FGM3  T2_reg_opponent_FGA3  \\\n",
       "7220            57.757576              9.212121             25.515152   \n",
       "\n",
       "      T2_reg_opponent_FTM  T2_reg_opponent_FTA  T2_reg_opponent_OR  \\\n",
       "7220            14.212121            20.454545            8.848485   \n",
       "\n",
       "      T2_reg_opponent_DR  T2_reg_opponent_Ast  T2_reg_opponent_TO  \\\n",
       "7220                24.0            13.484848           12.727273   \n",
       "\n",
       "      T2_reg_opponent_Stl  T2_reg_opponent_Blk  T2_reg_opponent_PF  \\\n",
       "7220             6.121212             3.151515           17.333333   \n",
       "\n",
       "      T1_NumGames  T1_NumWins  T1_NumLosses  T1_WinRatio  T2_NumGames  \\\n",
       "7220           32        18.0          14.0       0.5625           33   \n",
       "\n",
       "      T2_NumWins  T2_NumLosses  T2_WinRatio  T1_ordinal_rank_mean  \\\n",
       "7220        21.0          12.0     0.636364              38.62963   \n",
       "\n",
       "      T1_ordinal_rank_max  T1_ordinal_rank_min  T2_ordinal_rank_mean  \\\n",
       "7220                 78.0                 22.0             32.351852   \n",
       "\n",
       "      T2_ordinal_rank_max  T2_ordinal_rank_min  T1_seed  T1_Playin_seed  \\\n",
       "7220                 54.0                 19.0      9.0             0.0   \n",
       "\n",
       "      T2_seed  T2_Playin_seed  T1_win_ratio_14d  T2_win_ratio_14d  \\\n",
       "7220      8.0             0.0               0.5              0.25   \n",
       "\n",
       "      reg_Score_Diff  reg_FGM_Diff  reg_FGA_Diff  reg_FGM3_Diff  \\\n",
       "7220       -4.257576     -1.980114     -3.672348      -0.080492   \n",
       "\n",
       "      reg_FGA3_Diff  reg_FTM_Diff  reg_FTA_Diff  reg_OR_Diff  reg_DR_Diff  \\\n",
       "7220      -2.785985     -0.216856     -1.528409    -0.767045     -2.59375   \n",
       "\n",
       "      reg_Ast_Diff  reg_TO_Diff  reg_Stl_Diff  reg_Blk_Diff  reg_PF_Diff  \\\n",
       "7220     -1.022727    -0.150568     -1.805871     -1.887311    -0.894886   \n",
       "\n",
       "      reg_opponent_Score_Diff  reg_opponent_FGM_Diff  reg_opponent_FGA_Diff  \\\n",
       "7220                -4.495265              -1.019886              -2.351326   \n",
       "\n",
       "      reg_opponent_FGM3_Diff  reg_opponent_FGA3_Diff  reg_opponent_FTM_Diff  \\\n",
       "7220               -1.212121               -2.921402              -1.243371   \n",
       "\n",
       "      reg_opponent_FTA_Diff  reg_opponent_OR_Diff  reg_opponent_DR_Diff  \\\n",
       "7220              -1.892045              0.151515               -2.8125   \n",
       "\n",
       "      reg_opponent_Ast_Diff  reg_opponent_TO_Diff  reg_opponent_Stl_Diff  \\\n",
       "7220               1.108902             -0.696023              -0.339962   \n",
       "\n",
       "      reg_opponent_Blk_Diff  reg_opponent_PF_Diff  reg_PointDiff_Diff  \\\n",
       "7220               0.785985             -0.489583            0.237689   \n",
       "\n",
       "      win_ratio_14d_Diff  seed_Diff  ordinal_rank_mean_Diff  \\\n",
       "7220                0.25        1.0                6.277778   \n",
       "\n",
       "      ordinal_rank_max_Diff  ordinal_rank_min_Diff  NumGames_Diff  \\\n",
       "7220                   24.0                    3.0             -1   \n",
       "\n",
       "      NumWins_Diff  NumLosses_Diff  WinRatio_Diff  PointDiff_Rating_Diff  \\\n",
       "7220          -3.0             2.0      -0.073864               0.576185   \n",
       "\n",
       "      OE_Rating_Diff  DE_Rating_Diff  Pace_Rating_Diff  T1_OE_Pred  \\\n",
       "7220        0.002276       -0.002276         -2.516702    1.018064   \n",
       "\n",
       "      T2_OE_Pred  Pace_Pred  OE_Pred_Diff  \n",
       "7220    1.019285  68.283424     -0.001221  "
      ]
     },
     "execution_count": 48,
     "metadata": {},
     "output_type": "execute_result"
    }
   ],
   "source": [
    "submission_3.loc[(submission_3.T1_TeamID == 1124) & (submission_3.T2_TeamID == 1280)]"
   ]
  },
  {
   "cell_type": "code",
   "execution_count": 49,
   "id": "c79572db",
   "metadata": {
    "execution": {
     "iopub.execute_input": "2025-07-05T15:10:46.485833Z",
     "iopub.status.busy": "2025-07-05T15:10:46.485428Z",
     "iopub.status.idle": "2025-07-05T15:10:46.784833Z",
     "shell.execute_reply": "2025-07-05T15:10:46.783807Z"
    },
    "papermill": {
     "duration": 0.322082,
     "end_time": "2025-07-05T15:10:46.786782",
     "exception": false,
     "start_time": "2025-07-05T15:10:46.464700",
     "status": "completed"
    },
    "tags": []
   },
   "outputs": [],
   "source": [
    "submission_2[['ID', 'Pred']].to_csv(\"ncaa-2025-submission-2.csv\", index = None)"
   ]
  },
  {
   "cell_type": "code",
   "execution_count": 50,
   "id": "bd9e7e60",
   "metadata": {
    "execution": {
     "iopub.execute_input": "2025-07-05T15:10:46.826799Z",
     "iopub.status.busy": "2025-07-05T15:10:46.826407Z",
     "iopub.status.idle": "2025-07-05T15:10:47.122341Z",
     "shell.execute_reply": "2025-07-05T15:10:47.121235Z"
    },
    "papermill": {
     "duration": 0.318265,
     "end_time": "2025-07-05T15:10:47.124370",
     "exception": false,
     "start_time": "2025-07-05T15:10:46.806105",
     "status": "completed"
    },
    "tags": []
   },
   "outputs": [],
   "source": [
    "submission_3[['ID', 'Pred']].to_csv(\"ncaa-2025-submission-3.csv\", index = None)"
   ]
  }
 ],
 "metadata": {
  "kaggle": {
   "accelerator": "none",
   "dataSources": [
    {
     "databundleVersionId": 11441828,
     "sourceId": 91497,
     "sourceType": "competition"
    }
   ],
   "dockerImageVersionId": 30918,
   "isGpuEnabled": false,
   "isInternetEnabled": true,
   "language": "python",
   "sourceType": "notebook"
  },
  "kernelspec": {
   "display_name": "Python 3",
   "language": "python",
   "name": "python3"
  },
  "language_info": {
   "codemirror_mode": {
    "name": "ipython",
    "version": 3
   },
   "file_extension": ".py",
   "mimetype": "text/x-python",
   "name": "python",
   "nbconvert_exporter": "python",
   "pygments_lexer": "ipython3",
   "version": "3.10.12"
  },
  "papermill": {
   "default_parameters": {},
   "duration": 207.632401,
   "end_time": "2025-07-05T15:10:47.967394",
   "environment_variables": {},
   "exception": null,
   "input_path": "__notebook__.ipynb",
   "output_path": "__notebook__.ipynb",
   "parameters": {},
   "start_time": "2025-07-05T15:07:20.334993",
   "version": "2.6.0"
  }
 },
 "nbformat": 4,
 "nbformat_minor": 5
}
